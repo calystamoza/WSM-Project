{
 "cells": [
  {
   "cell_type": "code",
   "execution_count": 7,
   "metadata": {},
   "outputs": [],
   "source": [
    "from bertopic import BERTopic\n",
    "from sklearn.metrics import silhouette_score\n",
    "from gensim.models.coherencemodel import CoherenceModel\n",
    "import gensim\n",
    "import numpy as np\n",
    "import pandas as pd"
   ]
  },
  {
   "cell_type": "code",
   "execution_count": 30,
   "metadata": {},
   "outputs": [
    {
     "data": {
      "text/html": [
       "<div>\n",
       "<style scoped>\n",
       "    .dataframe tbody tr th:only-of-type {\n",
       "        vertical-align: middle;\n",
       "    }\n",
       "\n",
       "    .dataframe tbody tr th {\n",
       "        vertical-align: top;\n",
       "    }\n",
       "\n",
       "    .dataframe thead th {\n",
       "        text-align: right;\n",
       "    }\n",
       "</style>\n",
       "<table border=\"1\" class=\"dataframe\">\n",
       "  <thead>\n",
       "    <tr style=\"text-align: right;\">\n",
       "      <th></th>\n",
       "      <th>created_at</th>\n",
       "      <th>full_text</th>\n",
       "      <th>location</th>\n",
       "      <th>mentions</th>\n",
       "      <th>tokens</th>\n",
       "      <th>stemmed_tokens</th>\n",
       "      <th>clean_text</th>\n",
       "    </tr>\n",
       "  </thead>\n",
       "  <tbody>\n",
       "    <tr>\n",
       "      <th>0</th>\n",
       "      <td>Tue Sep 17 23:55:49 +0000 2024</td>\n",
       "      <td>Yuk ganyang Fufufafa sesuai anjuran HRS PKS pa...</td>\n",
       "      <td>NaN</td>\n",
       "      <td>['@UusRsd', '@msaid_didu']</td>\n",
       "      <td>['Yuk', 'ganyang', 'Fufufafa', 'sesuai', 'anju...</td>\n",
       "      <td>['yuk', 'ganyang', 'fufufafa', 'sesuai', 'anju...</td>\n",
       "      <td>yuk ganyang fufufafa sesuai anjur hrs pks bera...</td>\n",
       "    </tr>\n",
       "    <tr>\n",
       "      <th>1</th>\n",
       "      <td>Tue Sep 17 23:55:41 +0000 2024</td>\n",
       "      <td>Biasadrama mulyonopura kaget fufufafa fufufafaaaa</td>\n",
       "      <td>NaN</td>\n",
       "      <td>['@kompascom']</td>\n",
       "      <td>['Biasadrama', 'mulyonopura', 'kaget', 'fufufa...</td>\n",
       "      <td>['biasadrama', 'mulyonopura', 'kaget', 'fufufa...</td>\n",
       "      <td>biasadrama mulyonopura kaget fufufafa fufufafaaaa</td>\n",
       "    </tr>\n",
       "    <tr>\n",
       "      <th>2</th>\n",
       "      <td>Tue Sep 17 23:55:11 +0000 2024</td>\n",
       "      <td>Jamet menjijikkan Mesum pula</td>\n",
       "      <td>Jakarta Capital Region, Indone</td>\n",
       "      <td>['@fufu__fafa']</td>\n",
       "      <td>['Jamet', 'menjijikkan', 'Mesum']</td>\n",
       "      <td>['jamet', 'jijik', 'mesum']</td>\n",
       "      <td>jamet jijik mesum</td>\n",
       "    </tr>\n",
       "    <tr>\n",
       "      <th>3</th>\n",
       "      <td>Tue Sep 17 23:55:00 +0000 2024</td>\n",
       "      <td>Nebeng temenato nebeng sopir temen Fufufafa fu...</td>\n",
       "      <td>NaN</td>\n",
       "      <td>['@satriohendri']</td>\n",
       "      <td>['Nebeng', 'temenato', 'nebeng', 'sopir', 'tem...</td>\n",
       "      <td>['nebeng', 'temenato', 'nebeng', 'sopir', 'tem...</td>\n",
       "      <td>nebeng temenato nebeng sopir temen fufufafa fu...</td>\n",
       "    </tr>\n",
       "    <tr>\n",
       "      <th>4</th>\n",
       "      <td>Tue Sep 17 23:54:58 +0000 2024</td>\n",
       "      <td>kasian org ini model penakut Sama fufufafa yg ...</td>\n",
       "      <td>NaN</td>\n",
       "      <td>['@andikamalreza']</td>\n",
       "      <td>['kasian', 'org', 'model', 'penakut', 'fufufaf...</td>\n",
       "      <td>['kasi', 'org', 'model', 'takut', 'fufufafa', ...</td>\n",
       "      <td>kasi org model takut fufufafa yg udah hina dia...</td>\n",
       "    </tr>\n",
       "    <tr>\n",
       "      <th>...</th>\n",
       "      <td>...</td>\n",
       "      <td>...</td>\n",
       "      <td>...</td>\n",
       "      <td>...</td>\n",
       "      <td>...</td>\n",
       "      <td>...</td>\n",
       "      <td>...</td>\n",
       "    </tr>\n",
       "    <tr>\n",
       "      <th>996</th>\n",
       "      <td>Tue Sep 17 11:19:02 +0000 2024</td>\n",
       "      <td>Fufufafa wkkk</td>\n",
       "      <td>NaN</td>\n",
       "      <td>['@aewin86', '@BankSinarmas']</td>\n",
       "      <td>['Fufufafa', 'wkkk']</td>\n",
       "      <td>['fufufafa', 'wkkk']</td>\n",
       "      <td>fufufafa wkkk</td>\n",
       "    </tr>\n",
       "    <tr>\n",
       "      <th>997</th>\n",
       "      <td>Tue Sep 17 11:18:40 +0000 2024</td>\n",
       "      <td>Diem lu mending cebokin dulu sonoh si fufufafa</td>\n",
       "      <td>NaN</td>\n",
       "      <td>['@Ayah3bidadari', '@AndiSinulingga']</td>\n",
       "      <td>['Diem', 'lu', 'mending', 'cebokin', 'sonoh', ...</td>\n",
       "      <td>['diem', 'lu', 'mending', 'cebokin', 'sonoh', ...</td>\n",
       "      <td>diem lu mending cebokin sonoh si fufufafa</td>\n",
       "    </tr>\n",
       "    <tr>\n",
       "      <th>998</th>\n",
       "      <td>Tue Sep 17 11:18:26 +0000 2024</td>\n",
       "      <td>Mungkin ada baiknya kita tunggu kapan menyanyi...</td>\n",
       "      <td>NaN</td>\n",
       "      <td>['@PKSejahtera_ID']</td>\n",
       "      <td>['baiknya', 'tunggu', 'menyanyikan', 'lagu', '...</td>\n",
       "      <td>['baik', 'tunggu', 'nyanyi', 'lagu', 'ganyang'...</td>\n",
       "      <td>baik tunggu nyanyi lagu ganyang fufufafa dinya...</td>\n",
       "    </tr>\n",
       "    <tr>\n",
       "      <th>999</th>\n",
       "      <td>Tue Sep 17 11:18:10 +0000 2024</td>\n",
       "      <td>Mungkin ada baiknya kita tunggu kapan menyanyi...</td>\n",
       "      <td>NaN</td>\n",
       "      <td>['@msaid_didu', '@PKSejahtera_ID']</td>\n",
       "      <td>['baiknya', 'tunggu', 'menyanyikan', 'lagu', '...</td>\n",
       "      <td>['baik', 'tunggu', 'nyanyi', 'lagu', 'ganyang'...</td>\n",
       "      <td>baik tunggu nyanyi lagu ganyang fufufafa dinya...</td>\n",
       "    </tr>\n",
       "    <tr>\n",
       "      <th>1000</th>\n",
       "      <td>Tue Sep 17 11:17:53 +0000 2024</td>\n",
       "      <td>Tetep aja kualitas fufufafa IQ beruk</td>\n",
       "      <td>NaN</td>\n",
       "      <td>['@Triaswa32', '@AntarticaSnowWW', '@NenkMonica']</td>\n",
       "      <td>['Tetep', 'aja', 'kualitas', 'fufufafa', 'IQ',...</td>\n",
       "      <td>['tetep', 'aja', 'kualitas', 'fufufafa', 'iq',...</td>\n",
       "      <td>tetep aja kualitas fufufafa iq beruk</td>\n",
       "    </tr>\n",
       "  </tbody>\n",
       "</table>\n",
       "<p>1001 rows × 7 columns</p>\n",
       "</div>"
      ],
      "text/plain": [
       "                          created_at  \\\n",
       "0     Tue Sep 17 23:55:49 +0000 2024   \n",
       "1     Tue Sep 17 23:55:41 +0000 2024   \n",
       "2     Tue Sep 17 23:55:11 +0000 2024   \n",
       "3     Tue Sep 17 23:55:00 +0000 2024   \n",
       "4     Tue Sep 17 23:54:58 +0000 2024   \n",
       "...                              ...   \n",
       "996   Tue Sep 17 11:19:02 +0000 2024   \n",
       "997   Tue Sep 17 11:18:40 +0000 2024   \n",
       "998   Tue Sep 17 11:18:26 +0000 2024   \n",
       "999   Tue Sep 17 11:18:10 +0000 2024   \n",
       "1000  Tue Sep 17 11:17:53 +0000 2024   \n",
       "\n",
       "                                              full_text  \\\n",
       "0     Yuk ganyang Fufufafa sesuai anjuran HRS PKS pa...   \n",
       "1     Biasadrama mulyonopura kaget fufufafa fufufafaaaa   \n",
       "2                          Jamet menjijikkan Mesum pula   \n",
       "3     Nebeng temenato nebeng sopir temen Fufufafa fu...   \n",
       "4     kasian org ini model penakut Sama fufufafa yg ...   \n",
       "...                                                 ...   \n",
       "996                                       Fufufafa wkkk   \n",
       "997      Diem lu mending cebokin dulu sonoh si fufufafa   \n",
       "998   Mungkin ada baiknya kita tunggu kapan menyanyi...   \n",
       "999   Mungkin ada baiknya kita tunggu kapan menyanyi...   \n",
       "1000               Tetep aja kualitas fufufafa IQ beruk   \n",
       "\n",
       "                            location  \\\n",
       "0                                NaN   \n",
       "1                                NaN   \n",
       "2     Jakarta Capital Region, Indone   \n",
       "3                                NaN   \n",
       "4                                NaN   \n",
       "...                              ...   \n",
       "996                              NaN   \n",
       "997                              NaN   \n",
       "998                              NaN   \n",
       "999                              NaN   \n",
       "1000                             NaN   \n",
       "\n",
       "                                               mentions  \\\n",
       "0                            ['@UusRsd', '@msaid_didu']   \n",
       "1                                        ['@kompascom']   \n",
       "2                                       ['@fufu__fafa']   \n",
       "3                                     ['@satriohendri']   \n",
       "4                                    ['@andikamalreza']   \n",
       "...                                                 ...   \n",
       "996                       ['@aewin86', '@BankSinarmas']   \n",
       "997               ['@Ayah3bidadari', '@AndiSinulingga']   \n",
       "998                                 ['@PKSejahtera_ID']   \n",
       "999                  ['@msaid_didu', '@PKSejahtera_ID']   \n",
       "1000  ['@Triaswa32', '@AntarticaSnowWW', '@NenkMonica']   \n",
       "\n",
       "                                                 tokens  \\\n",
       "0     ['Yuk', 'ganyang', 'Fufufafa', 'sesuai', 'anju...   \n",
       "1     ['Biasadrama', 'mulyonopura', 'kaget', 'fufufa...   \n",
       "2                     ['Jamet', 'menjijikkan', 'Mesum']   \n",
       "3     ['Nebeng', 'temenato', 'nebeng', 'sopir', 'tem...   \n",
       "4     ['kasian', 'org', 'model', 'penakut', 'fufufaf...   \n",
       "...                                                 ...   \n",
       "996                                ['Fufufafa', 'wkkk']   \n",
       "997   ['Diem', 'lu', 'mending', 'cebokin', 'sonoh', ...   \n",
       "998   ['baiknya', 'tunggu', 'menyanyikan', 'lagu', '...   \n",
       "999   ['baiknya', 'tunggu', 'menyanyikan', 'lagu', '...   \n",
       "1000  ['Tetep', 'aja', 'kualitas', 'fufufafa', 'IQ',...   \n",
       "\n",
       "                                         stemmed_tokens  \\\n",
       "0     ['yuk', 'ganyang', 'fufufafa', 'sesuai', 'anju...   \n",
       "1     ['biasadrama', 'mulyonopura', 'kaget', 'fufufa...   \n",
       "2                           ['jamet', 'jijik', 'mesum']   \n",
       "3     ['nebeng', 'temenato', 'nebeng', 'sopir', 'tem...   \n",
       "4     ['kasi', 'org', 'model', 'takut', 'fufufafa', ...   \n",
       "...                                                 ...   \n",
       "996                                ['fufufafa', 'wkkk']   \n",
       "997   ['diem', 'lu', 'mending', 'cebokin', 'sonoh', ...   \n",
       "998   ['baik', 'tunggu', 'nyanyi', 'lagu', 'ganyang'...   \n",
       "999   ['baik', 'tunggu', 'nyanyi', 'lagu', 'ganyang'...   \n",
       "1000  ['tetep', 'aja', 'kualitas', 'fufufafa', 'iq',...   \n",
       "\n",
       "                                             clean_text  \n",
       "0     yuk ganyang fufufafa sesuai anjur hrs pks bera...  \n",
       "1     biasadrama mulyonopura kaget fufufafa fufufafaaaa  \n",
       "2                                     jamet jijik mesum  \n",
       "3     nebeng temenato nebeng sopir temen fufufafa fu...  \n",
       "4     kasi org model takut fufufafa yg udah hina dia...  \n",
       "...                                                 ...  \n",
       "996                                       fufufafa wkkk  \n",
       "997           diem lu mending cebokin sonoh si fufufafa  \n",
       "998   baik tunggu nyanyi lagu ganyang fufufafa dinya...  \n",
       "999   baik tunggu nyanyi lagu ganyang fufufafa dinya...  \n",
       "1000               tetep aja kualitas fufufafa iq beruk  \n",
       "\n",
       "[1001 rows x 7 columns]"
      ]
     },
     "execution_count": 30,
     "metadata": {},
     "output_type": "execute_result"
    }
   ],
   "source": [
    "# Data\n",
    "df_cleaned = pd.read_csv(r'tweets-data\\cleaned.csv')\n",
    "\n",
    "#slicing\n",
    "df_cleaned = df_cleaned.iloc[:1001,:]\n",
    "df_cleaned"
   ]
  },
  {
   "cell_type": "code",
   "execution_count": 31,
   "metadata": {},
   "outputs": [],
   "source": [
    "# Step 1: Preprocessing Data\n",
    "# Mengganti NaN dengan string kosong\n",
    "df_cleaned['clean_text'] = df_cleaned['clean_text'].fillna(\"\")"
   ]
  },
  {
   "cell_type": "code",
   "execution_count": 32,
   "metadata": {},
   "outputs": [
    {
     "name": "stderr",
     "output_type": "stream",
     "text": [
      "2024-10-01 13:51:06,355 - BERTopic - Embedding - Transforming documents to embeddings.\n",
      "Batches: 100%|██████████| 32/32 [00:08<00:00,  3.85it/s]\n",
      "2024-10-01 13:51:18,815 - BERTopic - Embedding - Completed ✓\n",
      "2024-10-01 13:51:18,816 - BERTopic - Dimensionality - Fitting the dimensionality reduction algorithm\n",
      "2024-10-01 13:51:22,040 - BERTopic - Dimensionality - Completed ✓\n",
      "2024-10-01 13:51:22,041 - BERTopic - Cluster - Start clustering the reduced embeddings\n",
      "2024-10-01 13:51:22,118 - BERTopic - Cluster - Completed ✓\n",
      "2024-10-01 13:51:22,121 - BERTopic - Representation - Extracting topics from clusters using representation models.\n",
      "2024-10-01 13:51:22,149 - BERTopic - Representation - Completed ✓\n"
     ]
    }
   ],
   "source": [
    "# Step 2: Inisialisasi Model BERTopic\n",
    "topic_model = BERTopic(language=\"indonesian\", calculate_probabilities=True, verbose=True)\n",
    "\n",
    "# Step 3: Latih Model pada Data\n",
    "texts = df_cleaned['clean_text'].tolist()\n",
    "topics, probs = topic_model.fit_transform(texts)"
   ]
  },
  {
   "cell_type": "code",
   "execution_count": 33,
   "metadata": {},
   "outputs": [],
   "source": [
    "# Step 4: Mendapatkan Topik\n",
    "topic_info = topic_model.get_topic_info()\n",
    "topics_keywords = [topic_model.get_topic(topic) for topic in set(topics) if topic != -1]  # Mengabaikan topik -1 (outliers)\n",
    "\n",
    "# Step 5: Mengatur Topik untuk Evaluasi Coherence\n",
    "top_words_per_topic = []\n",
    "for topic in topics_keywords:\n",
    "    if topic:  # Memeriksa apakah topik ada\n",
    "        top_words = [word for word, _ in topic[:10]]  # Ambil 10 kata teratas dari topik\n",
    "        top_words_per_topic.append(top_words)\n",
    "\n",
    "# Membuat representasi teks dalam bentuk list of list kata untuk gensim\n",
    "texts_for_gensim  = [text.split() for text in df_cleaned['clean_text']]\n",
    "\n",
    "# Membuat dictionary dan corpus\n",
    "dictionary = gensim.corpora.Dictionary(texts_for_gensim)\n",
    "\n",
    "# Menghitung Coherence Score dengan Gensim\n",
    "coherence_model = CoherenceModel(topics=top_words_per_topic, texts=texts_for_gensim, dictionary=dictionary, coherence='c_v')\n",
    "coherence_score = coherence_model.get_coherence()"
   ]
  },
  {
   "cell_type": "code",
   "execution_count": 40,
   "metadata": {},
   "outputs": [
    {
     "name": "stderr",
     "output_type": "stream",
     "text": [
      "Batches:   0%|          | 0/32 [00:00<?, ?it/s]"
     ]
    },
    {
     "name": "stderr",
     "output_type": "stream",
     "text": [
      "Batches: 100%|██████████| 32/32 [00:07<00:00,  4.15it/s]\n",
      "2024-10-01 14:07:00,435 - BERTopic - Dimensionality - Reducing dimensionality of input embeddings.\n",
      "2024-10-01 14:07:00,438 - BERTopic - Dimensionality - Completed ✓\n",
      "2024-10-01 14:07:00,439 - BERTopic - Clustering - Approximating new points with `hdbscan_model`\n",
      "2024-10-01 14:07:00,471 - BERTopic - Probabilities - Start calculation of probabilities with HDBSCAN\n",
      "2024-10-01 14:07:00,562 - BERTopic - Probabilities - Completed ✓\n",
      "2024-10-01 14:07:00,563 - BERTopic - Cluster - Completed ✓\n"
     ]
    }
   ],
   "source": [
    "# Menggunakan representasi vektor dari dokumen yang dihasilkan oleh BERTopic\n",
    "embeddings, topics = topic_model.transform(texts)"
   ]
  },
  {
   "cell_type": "code",
   "execution_count": 45,
   "metadata": {},
   "outputs": [
    {
     "name": "stdout",
     "output_type": "stream",
     "text": [
      "Shape of embeddings: (1001,)\n",
      "Length of topics: 1001\n"
     ]
    }
   ],
   "source": [
    "embeddings = np.array(embeddings)\n",
    "print(\"Shape of embeddings:\", embeddings.shape)\n",
    "print(\"Length of topics:\", len(topics))"
   ]
  },
  {
   "cell_type": "code",
   "execution_count": 46,
   "metadata": {},
   "outputs": [
    {
     "name": "stdout",
     "output_type": "stream",
     "text": [
      "Silhouette Score tidak dapat dihitung, hanya ada satu topik atau noise.\n",
      "\n",
      "Coherence Score untuk BERTopic: 0.5652129379833577\n"
     ]
    }
   ],
   "source": [
    "# Menghitung Silhouette Score untuk clustering\n",
    "silhouette_avg = silhouette_score(embeddings, topics)\n",
    "print(f\"Silhouette Score untuk BERTopic: {silhouette_avg}\")\n",
    "\n",
    "# Menampilkan hasil evaluasi\n",
    "print(f\"\\nCoherence Score untuk BERTopic: {coherence_score}\")"
   ]
  },
  {
   "cell_type": "code",
   "execution_count": 35,
   "metadata": {},
   "outputs": [
    {
     "name": "stdout",
     "output_type": "stream",
     "text": [
      "\n",
      "Informasi Topik yang Ditemukan:\n",
      "\n",
      "Topik #-1:\n",
      "  - Jumlah Dokumen  : 39\n",
      "  - Nama Topik      : -1_slot_gacor_keluarga_solo\n",
      "  - Representasi    : slot, gacor, keluarga, solo, fufufafa...\n",
      "  - Dokumen Contoh  : ['slot gacor new member wd link gacor nahan fufufafa arhan malam puncak paes slot gacor slotgacorhariini slotgacor nabrak ahmad dhani msbrew data pribadi indodax selasa kaesang gibran m labubu slot', 'slot gacor new member wd link gacor nahan fufufafa arhan malam puncak paes slot gacor slotgacorhariini slotgacor nabrak ahmad dhani msbrew data pribadi indodax selasa kaesang gibran m labubu slot', 'slot gacor new member wd link gacor nahan fufufafa arhan malam puncak paes slot gacor slotgacorhariini slotgacor nabrak ahmad dhani msbrew data pribadi indodax selasa kaesang gibran m labubu slot']\n",
      "\n",
      "Topik #0:\n",
      "  - Jumlah Dokumen  : 699\n",
      "  - Nama Topik      : 0_fufufafa_yg_akun_aja\n",
      "  - Representasi    : fufufafa, yg, akun, aja, ya...\n",
      "  - Dokumen Contoh  : ['fufufafa', 'fufufafa', 'fufufafa']\n",
      "\n",
      "Topik #1:\n",
      "  - Jumlah Dokumen  : 121\n",
      "  - Nama Topik      : 1_bang_ya_yg_gitu\n",
      "  - Representasi    : bang, ya, yg, gitu, nebeng...\n",
      "  - Dokumen Contoh  : ['kyk edit gitu ya bang video', 'gitu ya bang', 'komedi konyol dengar yg nebeng to yg tebeng ga oya yg absurd yg fufufafa universe']\n",
      "\n",
      "Topik #2:\n",
      "  - Jumlah Dokumen  : 58\n",
      "  - Nama Topik      : 2_yg_presiden_akun_fufufafa\n",
      "  - Representasi    : yg, presiden, akun, fufufafa, politik...\n",
      "  - Dokumen Contoh  : ['yg masalah publik ttg yg akun fufufafa pribadi sdh duli moralitas yg indikasi balik akun fufufafa pimpin negeri', 'tdk wapres yg norak kana n harga org dgn hina bbrp org jg prabowo n keluarga yg skrg presiden pilih prabowo tdk adu akun fufufafa dgn orang balik akun tsb', 'rakyat marah dgn akun fufufafa orang gerindra masalah yg hina tdk singgung yg hina asa pd tdk krn sgt hormat presiden pilih presiden pilih anggap cuit fufufafa bingunnngg']\n",
      "\n",
      "Topik #3:\n",
      "  - Jumlah Dokumen  : 38\n",
      "  - Nama Topik      : 3_agama_parpol_tpi_israel\n",
      "  - Representasi    : agama, parpol, tpi, israel, diri...\n",
      "  - Dokumen Contoh  : ['kalo fufufafa amp gerombol parpol kacung rezim firaun aneh menghianati aspirasi rakyat tpi klo parpol yg ngakunya dakwah agama tuntun tpi jdi jilat kuasa itu jijik jgn agama jadi topeng bubarkanpks', 'kalo fufufafa amp gerombol parpol kacung rezim firaun aneh menghianati aspirasi rakyat tpi klo parpol yg ngakunya dakwah agama tuntun tpi jdi jilat kuasa itu jijik jgn agama jadi topeng bubarkanpks', 'kalo fufufafa amp gerombol parpol kacung rezim firaun aneh menghianati aspirasi rakyat tpi klo parpol yg ngakunya dakwah agama tuntun tpi jdi jilat kuasa itu jijik jgn agama jadi topeng bubarkanpks']\n",
      "\n",
      "Topik #4:\n",
      "  - Jumlah Dokumen  : 20\n",
      "  - Nama Topik      : 4_tdk_prabowo_tindak_daruratmembahayakanprabowo\n",
      "  - Representasi    : tdk, prabowo, tindak, daruratmembahayakanprabowo, fufufaga...\n",
      "  - Dokumen Contoh  : ['daruratmembahayakanprabowo prabowo tdk tindak selesai fufufafa yg tlh hina beliau amp keluarga fufufaga tdk adab tdk moral tdk etika ampmemalukan fufufafa bahaya perintah prabowo thn ganyangfufufafa', 'daruratmembahayakanprabowo prabowo tdk tindak selesai fufufafa yg tlh hina beliau amp keluarga fufufaga tdk adab tdk moral tdk etika ampmemalukan fufufafa bahaya perintah prabowo thn ganyangfufufafa', 'daruratmembahayakanprabowo prabowo tdk tindak selesai fufufafa yg tlh hina beliau amp keluarga fufufaga tdk adab tdk moral tdk etika ampmemalukan fufufafa bahaya perintah prabowo thn ganyangfufufafa']\n",
      "\n",
      "Topik #5:\n",
      "  - Jumlah Dokumen  : 14\n",
      "  - Nama Topik      : 5_zonauang_netflix_wts_wtb\n",
      "  - Representasi    : zonauang, netflix, wts, wtb, zonajajan...\n",
      "  - Dokumen Contoh  : ['wts wtb jual beli aplikasi premium murah amp fast proses fastresp netflix amp canva amp spotify murce t puncak siang nyetrika libur selasa fufufafa nabrak nebeng speak up zonauang zonajajan', 'wts wtb jual beli aplikasi premium murah amp fast proses fastresp netflix amp canva amp spotify murce t puncak siang nyetrika libur selasa fufufafa nabrak nebeng speak up zonauang zonajajan', 'wts wtb jual beli aplikasi premium murah amp fast proses fastresp netflix amp canva amp viu murce t puncak siang nyetrika libur selasa fufufafa nabrak nebeng speak up zonauang zonajajan']\n",
      "\n",
      "Topik #6:\n",
      "  - Jumlah Dokumen  : 12\n",
      "  - Nama Topik      : 6_jet_pesawat_pribadi_klarifikasi\n",
      "  - Representasi    : jet, pesawat, pribadi, klarifikasi, nebeng...\n",
      "  - Dokumen Contoh  : ['transisidamai prabowojkw kuat hubung presiden jokowi prabowo mempan adu domba muncul isu akun fufufafa amp pakai jet pribadi selenggara negara azabjudol tetapjagahati walaudifitnah kenceng nahan hubner', 'hukum rusak oligarki jet pribadi kaesang klarifikasi fufufafa gibran klarifikasi revolusi rakyat selamat indonesia ganyangjokowigibran ganyangjokowigibran', 'hukum rusak oligarki jet pribadi kaesang klarifikasi fufufafa gibran klarifikasi jijik ganyangjokowigibran ganyangjokowigibran']\n"
     ]
    }
   ],
   "source": [
    "# Step 7: Menampilkan Topik yang Ditemukan dengan Format Lebih Baik\n",
    "topic_info = topic_model.get_topic_info()\n",
    "print(\"\\nInformasi Topik yang Ditemukan:\")\n",
    "\n",
    "# Format penampilan topik\n",
    "for index, row in topic_info.iterrows():\n",
    "    print(f\"\\nTopik #{row['Topic']}:\")\n",
    "    print(f\"  - Jumlah Dokumen  : {row['Count']}\")\n",
    "    print(f\"  - Nama Topik      : {row['Name']}\")\n",
    "    print(f\"  - Representasi    : {', '.join(row['Representation'][:5])}...\")\n",
    "    print(f\"  - Dokumen Contoh  : {row['Representative_Docs'][:3]}\")"
   ]
  },
  {
   "cell_type": "code",
   "execution_count": 36,
   "metadata": {},
   "outputs": [
    {
     "data": {
      "application/vnd.plotly.v1+json": {
       "config": {
        "plotlyServerURL": "https://plot.ly"
       },
       "data": [
        {
         "hoverinfo": "text",
         "marker": {
          "color": "rgb(61,153,112)"
         },
         "mode": "lines",
         "type": "scatter",
         "x": [
          0,
          0.46368325933002863,
          0.46368325933002863,
          0
         ],
         "xaxis": "x",
         "y": [
          -35,
          -35,
          -45,
          -45
         ],
         "yaxis": "y"
        },
        {
         "hoverinfo": "text",
         "marker": {
          "color": "rgb(61,153,112)"
         },
         "mode": "lines",
         "type": "scatter",
         "x": [
          0,
          0.7979286753441279,
          0.7979286753441279,
          0.46368325933002863
         ],
         "xaxis": "x",
         "y": [
          -25,
          -25,
          -40,
          -40
         ],
         "yaxis": "y"
        },
        {
         "hoverinfo": "text",
         "marker": {
          "color": "rgb(61,153,112)"
         },
         "mode": "lines",
         "type": "scatter",
         "x": [
          0.7979286753441279,
          0.8763063976560735,
          0.8763063976560735,
          0
         ],
         "xaxis": "x",
         "y": [
          -32.5,
          -32.5,
          -55,
          -55
         ],
         "yaxis": "y"
        },
        {
         "hoverinfo": "text",
         "marker": {
          "color": "rgb(61,153,112)"
         },
         "mode": "lines",
         "type": "scatter",
         "x": [
          0,
          0.8905036941308132,
          0.8905036941308132,
          0.8763063976560735
         ],
         "xaxis": "x",
         "y": [
          -15,
          -15,
          -43.75,
          -43.75
         ],
         "yaxis": "y"
        },
        {
         "hoverinfo": "text",
         "marker": {
          "color": "rgb(61,153,112)"
         },
         "mode": "lines",
         "type": "scatter",
         "x": [
          0.8905036941308132,
          0.9279949874871573,
          0.9279949874871573,
          0
         ],
         "xaxis": "x",
         "y": [
          -29.375,
          -29.375,
          -65,
          -65
         ],
         "yaxis": "y"
        },
        {
         "hoverinfo": "text",
         "marker": {
          "color": "rgb(0,116,217)"
         },
         "mode": "lines",
         "type": "scatter",
         "x": [
          0,
          1.0617501266971472,
          1.0617501266971472,
          0.9279949874871573
         ],
         "xaxis": "x",
         "y": [
          -5,
          -5,
          -47.1875,
          -47.1875
         ],
         "yaxis": "y"
        }
       ],
       "layout": {
        "autosize": false,
        "height": 305,
        "hoverlabel": {
         "bgcolor": "white",
         "font": {
          "family": "Rockwell",
          "size": 16
         }
        },
        "hovermode": "closest",
        "plot_bgcolor": "#ECEFF1",
        "showlegend": false,
        "template": {
         "data": {
          "bar": [
           {
            "error_x": {
             "color": "#2a3f5f"
            },
            "error_y": {
             "color": "#2a3f5f"
            },
            "marker": {
             "line": {
              "color": "white",
              "width": 0.5
             },
             "pattern": {
              "fillmode": "overlay",
              "size": 10,
              "solidity": 0.2
             }
            },
            "type": "bar"
           }
          ],
          "barpolar": [
           {
            "marker": {
             "line": {
              "color": "white",
              "width": 0.5
             },
             "pattern": {
              "fillmode": "overlay",
              "size": 10,
              "solidity": 0.2
             }
            },
            "type": "barpolar"
           }
          ],
          "carpet": [
           {
            "aaxis": {
             "endlinecolor": "#2a3f5f",
             "gridcolor": "#C8D4E3",
             "linecolor": "#C8D4E3",
             "minorgridcolor": "#C8D4E3",
             "startlinecolor": "#2a3f5f"
            },
            "baxis": {
             "endlinecolor": "#2a3f5f",
             "gridcolor": "#C8D4E3",
             "linecolor": "#C8D4E3",
             "minorgridcolor": "#C8D4E3",
             "startlinecolor": "#2a3f5f"
            },
            "type": "carpet"
           }
          ],
          "choropleth": [
           {
            "colorbar": {
             "outlinewidth": 0,
             "ticks": ""
            },
            "type": "choropleth"
           }
          ],
          "contour": [
           {
            "colorbar": {
             "outlinewidth": 0,
             "ticks": ""
            },
            "colorscale": [
             [
              0,
              "#0d0887"
             ],
             [
              0.1111111111111111,
              "#46039f"
             ],
             [
              0.2222222222222222,
              "#7201a8"
             ],
             [
              0.3333333333333333,
              "#9c179e"
             ],
             [
              0.4444444444444444,
              "#bd3786"
             ],
             [
              0.5555555555555556,
              "#d8576b"
             ],
             [
              0.6666666666666666,
              "#ed7953"
             ],
             [
              0.7777777777777778,
              "#fb9f3a"
             ],
             [
              0.8888888888888888,
              "#fdca26"
             ],
             [
              1,
              "#f0f921"
             ]
            ],
            "type": "contour"
           }
          ],
          "contourcarpet": [
           {
            "colorbar": {
             "outlinewidth": 0,
             "ticks": ""
            },
            "type": "contourcarpet"
           }
          ],
          "heatmap": [
           {
            "colorbar": {
             "outlinewidth": 0,
             "ticks": ""
            },
            "colorscale": [
             [
              0,
              "#0d0887"
             ],
             [
              0.1111111111111111,
              "#46039f"
             ],
             [
              0.2222222222222222,
              "#7201a8"
             ],
             [
              0.3333333333333333,
              "#9c179e"
             ],
             [
              0.4444444444444444,
              "#bd3786"
             ],
             [
              0.5555555555555556,
              "#d8576b"
             ],
             [
              0.6666666666666666,
              "#ed7953"
             ],
             [
              0.7777777777777778,
              "#fb9f3a"
             ],
             [
              0.8888888888888888,
              "#fdca26"
             ],
             [
              1,
              "#f0f921"
             ]
            ],
            "type": "heatmap"
           }
          ],
          "heatmapgl": [
           {
            "colorbar": {
             "outlinewidth": 0,
             "ticks": ""
            },
            "colorscale": [
             [
              0,
              "#0d0887"
             ],
             [
              0.1111111111111111,
              "#46039f"
             ],
             [
              0.2222222222222222,
              "#7201a8"
             ],
             [
              0.3333333333333333,
              "#9c179e"
             ],
             [
              0.4444444444444444,
              "#bd3786"
             ],
             [
              0.5555555555555556,
              "#d8576b"
             ],
             [
              0.6666666666666666,
              "#ed7953"
             ],
             [
              0.7777777777777778,
              "#fb9f3a"
             ],
             [
              0.8888888888888888,
              "#fdca26"
             ],
             [
              1,
              "#f0f921"
             ]
            ],
            "type": "heatmapgl"
           }
          ],
          "histogram": [
           {
            "marker": {
             "pattern": {
              "fillmode": "overlay",
              "size": 10,
              "solidity": 0.2
             }
            },
            "type": "histogram"
           }
          ],
          "histogram2d": [
           {
            "colorbar": {
             "outlinewidth": 0,
             "ticks": ""
            },
            "colorscale": [
             [
              0,
              "#0d0887"
             ],
             [
              0.1111111111111111,
              "#46039f"
             ],
             [
              0.2222222222222222,
              "#7201a8"
             ],
             [
              0.3333333333333333,
              "#9c179e"
             ],
             [
              0.4444444444444444,
              "#bd3786"
             ],
             [
              0.5555555555555556,
              "#d8576b"
             ],
             [
              0.6666666666666666,
              "#ed7953"
             ],
             [
              0.7777777777777778,
              "#fb9f3a"
             ],
             [
              0.8888888888888888,
              "#fdca26"
             ],
             [
              1,
              "#f0f921"
             ]
            ],
            "type": "histogram2d"
           }
          ],
          "histogram2dcontour": [
           {
            "colorbar": {
             "outlinewidth": 0,
             "ticks": ""
            },
            "colorscale": [
             [
              0,
              "#0d0887"
             ],
             [
              0.1111111111111111,
              "#46039f"
             ],
             [
              0.2222222222222222,
              "#7201a8"
             ],
             [
              0.3333333333333333,
              "#9c179e"
             ],
             [
              0.4444444444444444,
              "#bd3786"
             ],
             [
              0.5555555555555556,
              "#d8576b"
             ],
             [
              0.6666666666666666,
              "#ed7953"
             ],
             [
              0.7777777777777778,
              "#fb9f3a"
             ],
             [
              0.8888888888888888,
              "#fdca26"
             ],
             [
              1,
              "#f0f921"
             ]
            ],
            "type": "histogram2dcontour"
           }
          ],
          "mesh3d": [
           {
            "colorbar": {
             "outlinewidth": 0,
             "ticks": ""
            },
            "type": "mesh3d"
           }
          ],
          "parcoords": [
           {
            "line": {
             "colorbar": {
              "outlinewidth": 0,
              "ticks": ""
             }
            },
            "type": "parcoords"
           }
          ],
          "pie": [
           {
            "automargin": true,
            "type": "pie"
           }
          ],
          "scatter": [
           {
            "fillpattern": {
             "fillmode": "overlay",
             "size": 10,
             "solidity": 0.2
            },
            "type": "scatter"
           }
          ],
          "scatter3d": [
           {
            "line": {
             "colorbar": {
              "outlinewidth": 0,
              "ticks": ""
             }
            },
            "marker": {
             "colorbar": {
              "outlinewidth": 0,
              "ticks": ""
             }
            },
            "type": "scatter3d"
           }
          ],
          "scattercarpet": [
           {
            "marker": {
             "colorbar": {
              "outlinewidth": 0,
              "ticks": ""
             }
            },
            "type": "scattercarpet"
           }
          ],
          "scattergeo": [
           {
            "marker": {
             "colorbar": {
              "outlinewidth": 0,
              "ticks": ""
             }
            },
            "type": "scattergeo"
           }
          ],
          "scattergl": [
           {
            "marker": {
             "colorbar": {
              "outlinewidth": 0,
              "ticks": ""
             }
            },
            "type": "scattergl"
           }
          ],
          "scattermapbox": [
           {
            "marker": {
             "colorbar": {
              "outlinewidth": 0,
              "ticks": ""
             }
            },
            "type": "scattermapbox"
           }
          ],
          "scatterpolar": [
           {
            "marker": {
             "colorbar": {
              "outlinewidth": 0,
              "ticks": ""
             }
            },
            "type": "scatterpolar"
           }
          ],
          "scatterpolargl": [
           {
            "marker": {
             "colorbar": {
              "outlinewidth": 0,
              "ticks": ""
             }
            },
            "type": "scatterpolargl"
           }
          ],
          "scatterternary": [
           {
            "marker": {
             "colorbar": {
              "outlinewidth": 0,
              "ticks": ""
             }
            },
            "type": "scatterternary"
           }
          ],
          "surface": [
           {
            "colorbar": {
             "outlinewidth": 0,
             "ticks": ""
            },
            "colorscale": [
             [
              0,
              "#0d0887"
             ],
             [
              0.1111111111111111,
              "#46039f"
             ],
             [
              0.2222222222222222,
              "#7201a8"
             ],
             [
              0.3333333333333333,
              "#9c179e"
             ],
             [
              0.4444444444444444,
              "#bd3786"
             ],
             [
              0.5555555555555556,
              "#d8576b"
             ],
             [
              0.6666666666666666,
              "#ed7953"
             ],
             [
              0.7777777777777778,
              "#fb9f3a"
             ],
             [
              0.8888888888888888,
              "#fdca26"
             ],
             [
              1,
              "#f0f921"
             ]
            ],
            "type": "surface"
           }
          ],
          "table": [
           {
            "cells": {
             "fill": {
              "color": "#EBF0F8"
             },
             "line": {
              "color": "white"
             }
            },
            "header": {
             "fill": {
              "color": "#C8D4E3"
             },
             "line": {
              "color": "white"
             }
            },
            "type": "table"
           }
          ]
         },
         "layout": {
          "annotationdefaults": {
           "arrowcolor": "#2a3f5f",
           "arrowhead": 0,
           "arrowwidth": 1
          },
          "autotypenumbers": "strict",
          "coloraxis": {
           "colorbar": {
            "outlinewidth": 0,
            "ticks": ""
           }
          },
          "colorscale": {
           "diverging": [
            [
             0,
             "#8e0152"
            ],
            [
             0.1,
             "#c51b7d"
            ],
            [
             0.2,
             "#de77ae"
            ],
            [
             0.3,
             "#f1b6da"
            ],
            [
             0.4,
             "#fde0ef"
            ],
            [
             0.5,
             "#f7f7f7"
            ],
            [
             0.6,
             "#e6f5d0"
            ],
            [
             0.7,
             "#b8e186"
            ],
            [
             0.8,
             "#7fbc41"
            ],
            [
             0.9,
             "#4d9221"
            ],
            [
             1,
             "#276419"
            ]
           ],
           "sequential": [
            [
             0,
             "#0d0887"
            ],
            [
             0.1111111111111111,
             "#46039f"
            ],
            [
             0.2222222222222222,
             "#7201a8"
            ],
            [
             0.3333333333333333,
             "#9c179e"
            ],
            [
             0.4444444444444444,
             "#bd3786"
            ],
            [
             0.5555555555555556,
             "#d8576b"
            ],
            [
             0.6666666666666666,
             "#ed7953"
            ],
            [
             0.7777777777777778,
             "#fb9f3a"
            ],
            [
             0.8888888888888888,
             "#fdca26"
            ],
            [
             1,
             "#f0f921"
            ]
           ],
           "sequentialminus": [
            [
             0,
             "#0d0887"
            ],
            [
             0.1111111111111111,
             "#46039f"
            ],
            [
             0.2222222222222222,
             "#7201a8"
            ],
            [
             0.3333333333333333,
             "#9c179e"
            ],
            [
             0.4444444444444444,
             "#bd3786"
            ],
            [
             0.5555555555555556,
             "#d8576b"
            ],
            [
             0.6666666666666666,
             "#ed7953"
            ],
            [
             0.7777777777777778,
             "#fb9f3a"
            ],
            [
             0.8888888888888888,
             "#fdca26"
            ],
            [
             1,
             "#f0f921"
            ]
           ]
          },
          "colorway": [
           "#636efa",
           "#EF553B",
           "#00cc96",
           "#ab63fa",
           "#FFA15A",
           "#19d3f3",
           "#FF6692",
           "#B6E880",
           "#FF97FF",
           "#FECB52"
          ],
          "font": {
           "color": "#2a3f5f"
          },
          "geo": {
           "bgcolor": "white",
           "lakecolor": "white",
           "landcolor": "white",
           "showlakes": true,
           "showland": true,
           "subunitcolor": "#C8D4E3"
          },
          "hoverlabel": {
           "align": "left"
          },
          "hovermode": "closest",
          "mapbox": {
           "style": "light"
          },
          "paper_bgcolor": "white",
          "plot_bgcolor": "white",
          "polar": {
           "angularaxis": {
            "gridcolor": "#EBF0F8",
            "linecolor": "#EBF0F8",
            "ticks": ""
           },
           "bgcolor": "white",
           "radialaxis": {
            "gridcolor": "#EBF0F8",
            "linecolor": "#EBF0F8",
            "ticks": ""
           }
          },
          "scene": {
           "xaxis": {
            "backgroundcolor": "white",
            "gridcolor": "#DFE8F3",
            "gridwidth": 2,
            "linecolor": "#EBF0F8",
            "showbackground": true,
            "ticks": "",
            "zerolinecolor": "#EBF0F8"
           },
           "yaxis": {
            "backgroundcolor": "white",
            "gridcolor": "#DFE8F3",
            "gridwidth": 2,
            "linecolor": "#EBF0F8",
            "showbackground": true,
            "ticks": "",
            "zerolinecolor": "#EBF0F8"
           },
           "zaxis": {
            "backgroundcolor": "white",
            "gridcolor": "#DFE8F3",
            "gridwidth": 2,
            "linecolor": "#EBF0F8",
            "showbackground": true,
            "ticks": "",
            "zerolinecolor": "#EBF0F8"
           }
          },
          "shapedefaults": {
           "line": {
            "color": "#2a3f5f"
           }
          },
          "ternary": {
           "aaxis": {
            "gridcolor": "#DFE8F3",
            "linecolor": "#A2B1C6",
            "ticks": ""
           },
           "baxis": {
            "gridcolor": "#DFE8F3",
            "linecolor": "#A2B1C6",
            "ticks": ""
           },
           "bgcolor": "white",
           "caxis": {
            "gridcolor": "#DFE8F3",
            "linecolor": "#A2B1C6",
            "ticks": ""
           }
          },
          "title": {
           "x": 0.05
          },
          "xaxis": {
           "automargin": true,
           "gridcolor": "#EBF0F8",
           "linecolor": "#EBF0F8",
           "ticks": "",
           "title": {
            "standoff": 15
           },
           "zerolinecolor": "#EBF0F8",
           "zerolinewidth": 2
          },
          "yaxis": {
           "automargin": true,
           "gridcolor": "#EBF0F8",
           "linecolor": "#EBF0F8",
           "ticks": "",
           "title": {
            "standoff": 15
           },
           "zerolinecolor": "#EBF0F8",
           "zerolinewidth": 2
          }
         }
        },
        "title": {
         "font": {
          "color": "Black",
          "size": 22
         },
         "text": "<b>Hierarchical Clustering</b>",
         "x": 0.5,
         "xanchor": "center",
         "yanchor": "top"
        },
        "width": 1000,
        "xaxis": {
         "mirror": "allticks",
         "rangemode": "tozero",
         "showgrid": false,
         "showline": true,
         "showticklabels": true,
         "ticks": "outside",
         "type": "linear",
         "zeroline": false
        },
        "yaxis": {
         "mirror": "allticks",
         "range": [
          -70,
          0
         ],
         "rangemode": "tozero",
         "showgrid": false,
         "showline": true,
         "showticklabels": true,
         "tickmode": "array",
         "ticks": "outside",
         "ticktext": [
          "5_zonauang_netflix_wts",
          "6_jet_pesawat_pribadi",
          "1_bang_ya_yg",
          "0_fufufafa_yg_akun",
          "2_yg_presiden_akun",
          "3_agama_parpol_tpi",
          "4_tdk_prabowo_tindak"
         ],
         "tickvals": [
          -5,
          -15,
          -25,
          -35,
          -45,
          -55,
          -65
         ],
         "type": "linear",
         "zeroline": false
        }
       }
      }
     },
     "metadata": {},
     "output_type": "display_data"
    }
   ],
   "source": [
    "# Step 7: Visualisasi Hierarki Topik\n",
    "topic_model.visualize_hierarchy()"
   ]
  },
  {
   "cell_type": "code",
   "execution_count": 37,
   "metadata": {},
   "outputs": [
    {
     "data": {
      "application/vnd.plotly.v1+json": {
       "config": {
        "plotlyServerURL": "https://plot.ly"
       },
       "data": [
        {
         "marker": {
          "color": "#D55E00"
         },
         "orientation": "h",
         "type": "bar",
         "x": [
          0.028357666824359695,
          0.029895375450800486,
          0.0312590836037221,
          0.03952563622616257,
          0.09320464735712572
         ],
         "xaxis": "x",
         "y": [
          "ya  ",
          "aja  ",
          "akun  ",
          "yg  ",
          "fufufafa  "
         ],
         "yaxis": "y"
        },
        {
         "marker": {
          "color": "#0072B2"
         },
         "orientation": "h",
         "type": "bar",
         "x": [
          0.04525992490213845,
          0.058813360161925024,
          0.06765262414588918,
          0.06962933742829491,
          0.07073755353848529
         ],
         "xaxis": "x2",
         "y": [
          "nebeng  ",
          "gitu  ",
          "yg  ",
          "ya  ",
          "bang  "
         ],
         "yaxis": "y2"
        },
        {
         "marker": {
          "color": "#CC79A7"
         },
         "orientation": "h",
         "type": "bar",
         "x": [
          0.0369396096306522,
          0.055275230464441785,
          0.05947327591040777,
          0.06570975223108051,
          0.06697074024521067
         ],
         "xaxis": "x3",
         "y": [
          "politik  ",
          "fufufafa  ",
          "akun  ",
          "presiden  ",
          "yg  "
         ],
         "yaxis": "y3"
        },
        {
         "marker": {
          "color": "#E69F00"
         },
         "orientation": "h",
         "type": "bar",
         "x": [
          0.05065150080088517,
          0.0574130455391146,
          0.05999407696960798,
          0.06117787349516465,
          0.09124177192719352
         ],
         "xaxis": "x4",
         "y": [
          "diri  ",
          "israel  ",
          "tpi  ",
          "parpol  ",
          "agama  "
         ],
         "yaxis": "y4"
        },
        {
         "marker": {
          "color": "#56B4E9"
         },
         "orientation": "h",
         "type": "bar",
         "x": [
          0.11662012362261462,
          0.11662012362261462,
          0.12227760445800591,
          0.14606448892395865,
          0.32810425854401726
         ],
         "xaxis": "x5",
         "y": [
          "fufufaga  ",
          "daruratmembahayakanprabowo  ",
          "tindak  ",
          "prabowo  ",
          "tdk  "
         ],
         "yaxis": "y5"
        },
        {
         "marker": {
          "color": "#009E73"
         },
         "orientation": "h",
         "type": "bar",
         "x": [
          0.14553366714011828,
          0.14553366714011828,
          0.14553366714011828,
          0.14553366714011828,
          0.14553366714011828
         ],
         "xaxis": "x6",
         "y": [
          "zonajajan  ",
          "wtb  ",
          "wts  ",
          "netflix  ",
          "zonauang  "
         ],
         "yaxis": "y6"
        },
        {
         "marker": {
          "color": "#F0E442"
         },
         "orientation": "h",
         "type": "bar",
         "x": [
          0.09896485036910739,
          0.10186098284001498,
          0.10981672352761591,
          0.11008948643457694,
          0.2160812472494789
         ],
         "xaxis": "x7",
         "y": [
          "nebeng  ",
          "klarifikasi  ",
          "pribadi  ",
          "pesawat  ",
          "jet  "
         ],
         "yaxis": "y7"
        }
       ],
       "layout": {
        "annotations": [
         {
          "font": {
           "size": 16
          },
          "showarrow": false,
          "text": "Topic 0",
          "x": 0.0875,
          "xanchor": "center",
          "xref": "paper",
          "y": 1,
          "yanchor": "bottom",
          "yref": "paper"
         },
         {
          "font": {
           "size": 16
          },
          "showarrow": false,
          "text": "Topic 1",
          "x": 0.36250000000000004,
          "xanchor": "center",
          "xref": "paper",
          "y": 1,
          "yanchor": "bottom",
          "yref": "paper"
         },
         {
          "font": {
           "size": 16
          },
          "showarrow": false,
          "text": "Topic 2",
          "x": 0.6375000000000001,
          "xanchor": "center",
          "xref": "paper",
          "y": 1,
          "yanchor": "bottom",
          "yref": "paper"
         },
         {
          "font": {
           "size": 16
          },
          "showarrow": false,
          "text": "Topic 3",
          "x": 0.9125,
          "xanchor": "center",
          "xref": "paper",
          "y": 1,
          "yanchor": "bottom",
          "yref": "paper"
         },
         {
          "font": {
           "size": 16
          },
          "showarrow": false,
          "text": "Topic 4",
          "x": 0.0875,
          "xanchor": "center",
          "xref": "paper",
          "y": 0.4,
          "yanchor": "bottom",
          "yref": "paper"
         },
         {
          "font": {
           "size": 16
          },
          "showarrow": false,
          "text": "Topic 5",
          "x": 0.36250000000000004,
          "xanchor": "center",
          "xref": "paper",
          "y": 0.4,
          "yanchor": "bottom",
          "yref": "paper"
         },
         {
          "font": {
           "size": 16
          },
          "showarrow": false,
          "text": "Topic 6",
          "x": 0.6375000000000001,
          "xanchor": "center",
          "xref": "paper",
          "y": 0.4,
          "yanchor": "bottom",
          "yref": "paper"
         }
        ],
        "height": 500,
        "hoverlabel": {
         "bgcolor": "white",
         "font": {
          "family": "Rockwell",
          "size": 16
         }
        },
        "showlegend": false,
        "template": {
         "data": {
          "bar": [
           {
            "error_x": {
             "color": "#2a3f5f"
            },
            "error_y": {
             "color": "#2a3f5f"
            },
            "marker": {
             "line": {
              "color": "white",
              "width": 0.5
             },
             "pattern": {
              "fillmode": "overlay",
              "size": 10,
              "solidity": 0.2
             }
            },
            "type": "bar"
           }
          ],
          "barpolar": [
           {
            "marker": {
             "line": {
              "color": "white",
              "width": 0.5
             },
             "pattern": {
              "fillmode": "overlay",
              "size": 10,
              "solidity": 0.2
             }
            },
            "type": "barpolar"
           }
          ],
          "carpet": [
           {
            "aaxis": {
             "endlinecolor": "#2a3f5f",
             "gridcolor": "#C8D4E3",
             "linecolor": "#C8D4E3",
             "minorgridcolor": "#C8D4E3",
             "startlinecolor": "#2a3f5f"
            },
            "baxis": {
             "endlinecolor": "#2a3f5f",
             "gridcolor": "#C8D4E3",
             "linecolor": "#C8D4E3",
             "minorgridcolor": "#C8D4E3",
             "startlinecolor": "#2a3f5f"
            },
            "type": "carpet"
           }
          ],
          "choropleth": [
           {
            "colorbar": {
             "outlinewidth": 0,
             "ticks": ""
            },
            "type": "choropleth"
           }
          ],
          "contour": [
           {
            "colorbar": {
             "outlinewidth": 0,
             "ticks": ""
            },
            "colorscale": [
             [
              0,
              "#0d0887"
             ],
             [
              0.1111111111111111,
              "#46039f"
             ],
             [
              0.2222222222222222,
              "#7201a8"
             ],
             [
              0.3333333333333333,
              "#9c179e"
             ],
             [
              0.4444444444444444,
              "#bd3786"
             ],
             [
              0.5555555555555556,
              "#d8576b"
             ],
             [
              0.6666666666666666,
              "#ed7953"
             ],
             [
              0.7777777777777778,
              "#fb9f3a"
             ],
             [
              0.8888888888888888,
              "#fdca26"
             ],
             [
              1,
              "#f0f921"
             ]
            ],
            "type": "contour"
           }
          ],
          "contourcarpet": [
           {
            "colorbar": {
             "outlinewidth": 0,
             "ticks": ""
            },
            "type": "contourcarpet"
           }
          ],
          "heatmap": [
           {
            "colorbar": {
             "outlinewidth": 0,
             "ticks": ""
            },
            "colorscale": [
             [
              0,
              "#0d0887"
             ],
             [
              0.1111111111111111,
              "#46039f"
             ],
             [
              0.2222222222222222,
              "#7201a8"
             ],
             [
              0.3333333333333333,
              "#9c179e"
             ],
             [
              0.4444444444444444,
              "#bd3786"
             ],
             [
              0.5555555555555556,
              "#d8576b"
             ],
             [
              0.6666666666666666,
              "#ed7953"
             ],
             [
              0.7777777777777778,
              "#fb9f3a"
             ],
             [
              0.8888888888888888,
              "#fdca26"
             ],
             [
              1,
              "#f0f921"
             ]
            ],
            "type": "heatmap"
           }
          ],
          "heatmapgl": [
           {
            "colorbar": {
             "outlinewidth": 0,
             "ticks": ""
            },
            "colorscale": [
             [
              0,
              "#0d0887"
             ],
             [
              0.1111111111111111,
              "#46039f"
             ],
             [
              0.2222222222222222,
              "#7201a8"
             ],
             [
              0.3333333333333333,
              "#9c179e"
             ],
             [
              0.4444444444444444,
              "#bd3786"
             ],
             [
              0.5555555555555556,
              "#d8576b"
             ],
             [
              0.6666666666666666,
              "#ed7953"
             ],
             [
              0.7777777777777778,
              "#fb9f3a"
             ],
             [
              0.8888888888888888,
              "#fdca26"
             ],
             [
              1,
              "#f0f921"
             ]
            ],
            "type": "heatmapgl"
           }
          ],
          "histogram": [
           {
            "marker": {
             "pattern": {
              "fillmode": "overlay",
              "size": 10,
              "solidity": 0.2
             }
            },
            "type": "histogram"
           }
          ],
          "histogram2d": [
           {
            "colorbar": {
             "outlinewidth": 0,
             "ticks": ""
            },
            "colorscale": [
             [
              0,
              "#0d0887"
             ],
             [
              0.1111111111111111,
              "#46039f"
             ],
             [
              0.2222222222222222,
              "#7201a8"
             ],
             [
              0.3333333333333333,
              "#9c179e"
             ],
             [
              0.4444444444444444,
              "#bd3786"
             ],
             [
              0.5555555555555556,
              "#d8576b"
             ],
             [
              0.6666666666666666,
              "#ed7953"
             ],
             [
              0.7777777777777778,
              "#fb9f3a"
             ],
             [
              0.8888888888888888,
              "#fdca26"
             ],
             [
              1,
              "#f0f921"
             ]
            ],
            "type": "histogram2d"
           }
          ],
          "histogram2dcontour": [
           {
            "colorbar": {
             "outlinewidth": 0,
             "ticks": ""
            },
            "colorscale": [
             [
              0,
              "#0d0887"
             ],
             [
              0.1111111111111111,
              "#46039f"
             ],
             [
              0.2222222222222222,
              "#7201a8"
             ],
             [
              0.3333333333333333,
              "#9c179e"
             ],
             [
              0.4444444444444444,
              "#bd3786"
             ],
             [
              0.5555555555555556,
              "#d8576b"
             ],
             [
              0.6666666666666666,
              "#ed7953"
             ],
             [
              0.7777777777777778,
              "#fb9f3a"
             ],
             [
              0.8888888888888888,
              "#fdca26"
             ],
             [
              1,
              "#f0f921"
             ]
            ],
            "type": "histogram2dcontour"
           }
          ],
          "mesh3d": [
           {
            "colorbar": {
             "outlinewidth": 0,
             "ticks": ""
            },
            "type": "mesh3d"
           }
          ],
          "parcoords": [
           {
            "line": {
             "colorbar": {
              "outlinewidth": 0,
              "ticks": ""
             }
            },
            "type": "parcoords"
           }
          ],
          "pie": [
           {
            "automargin": true,
            "type": "pie"
           }
          ],
          "scatter": [
           {
            "fillpattern": {
             "fillmode": "overlay",
             "size": 10,
             "solidity": 0.2
            },
            "type": "scatter"
           }
          ],
          "scatter3d": [
           {
            "line": {
             "colorbar": {
              "outlinewidth": 0,
              "ticks": ""
             }
            },
            "marker": {
             "colorbar": {
              "outlinewidth": 0,
              "ticks": ""
             }
            },
            "type": "scatter3d"
           }
          ],
          "scattercarpet": [
           {
            "marker": {
             "colorbar": {
              "outlinewidth": 0,
              "ticks": ""
             }
            },
            "type": "scattercarpet"
           }
          ],
          "scattergeo": [
           {
            "marker": {
             "colorbar": {
              "outlinewidth": 0,
              "ticks": ""
             }
            },
            "type": "scattergeo"
           }
          ],
          "scattergl": [
           {
            "marker": {
             "colorbar": {
              "outlinewidth": 0,
              "ticks": ""
             }
            },
            "type": "scattergl"
           }
          ],
          "scattermapbox": [
           {
            "marker": {
             "colorbar": {
              "outlinewidth": 0,
              "ticks": ""
             }
            },
            "type": "scattermapbox"
           }
          ],
          "scatterpolar": [
           {
            "marker": {
             "colorbar": {
              "outlinewidth": 0,
              "ticks": ""
             }
            },
            "type": "scatterpolar"
           }
          ],
          "scatterpolargl": [
           {
            "marker": {
             "colorbar": {
              "outlinewidth": 0,
              "ticks": ""
             }
            },
            "type": "scatterpolargl"
           }
          ],
          "scatterternary": [
           {
            "marker": {
             "colorbar": {
              "outlinewidth": 0,
              "ticks": ""
             }
            },
            "type": "scatterternary"
           }
          ],
          "surface": [
           {
            "colorbar": {
             "outlinewidth": 0,
             "ticks": ""
            },
            "colorscale": [
             [
              0,
              "#0d0887"
             ],
             [
              0.1111111111111111,
              "#46039f"
             ],
             [
              0.2222222222222222,
              "#7201a8"
             ],
             [
              0.3333333333333333,
              "#9c179e"
             ],
             [
              0.4444444444444444,
              "#bd3786"
             ],
             [
              0.5555555555555556,
              "#d8576b"
             ],
             [
              0.6666666666666666,
              "#ed7953"
             ],
             [
              0.7777777777777778,
              "#fb9f3a"
             ],
             [
              0.8888888888888888,
              "#fdca26"
             ],
             [
              1,
              "#f0f921"
             ]
            ],
            "type": "surface"
           }
          ],
          "table": [
           {
            "cells": {
             "fill": {
              "color": "#EBF0F8"
             },
             "line": {
              "color": "white"
             }
            },
            "header": {
             "fill": {
              "color": "#C8D4E3"
             },
             "line": {
              "color": "white"
             }
            },
            "type": "table"
           }
          ]
         },
         "layout": {
          "annotationdefaults": {
           "arrowcolor": "#2a3f5f",
           "arrowhead": 0,
           "arrowwidth": 1
          },
          "autotypenumbers": "strict",
          "coloraxis": {
           "colorbar": {
            "outlinewidth": 0,
            "ticks": ""
           }
          },
          "colorscale": {
           "diverging": [
            [
             0,
             "#8e0152"
            ],
            [
             0.1,
             "#c51b7d"
            ],
            [
             0.2,
             "#de77ae"
            ],
            [
             0.3,
             "#f1b6da"
            ],
            [
             0.4,
             "#fde0ef"
            ],
            [
             0.5,
             "#f7f7f7"
            ],
            [
             0.6,
             "#e6f5d0"
            ],
            [
             0.7,
             "#b8e186"
            ],
            [
             0.8,
             "#7fbc41"
            ],
            [
             0.9,
             "#4d9221"
            ],
            [
             1,
             "#276419"
            ]
           ],
           "sequential": [
            [
             0,
             "#0d0887"
            ],
            [
             0.1111111111111111,
             "#46039f"
            ],
            [
             0.2222222222222222,
             "#7201a8"
            ],
            [
             0.3333333333333333,
             "#9c179e"
            ],
            [
             0.4444444444444444,
             "#bd3786"
            ],
            [
             0.5555555555555556,
             "#d8576b"
            ],
            [
             0.6666666666666666,
             "#ed7953"
            ],
            [
             0.7777777777777778,
             "#fb9f3a"
            ],
            [
             0.8888888888888888,
             "#fdca26"
            ],
            [
             1,
             "#f0f921"
            ]
           ],
           "sequentialminus": [
            [
             0,
             "#0d0887"
            ],
            [
             0.1111111111111111,
             "#46039f"
            ],
            [
             0.2222222222222222,
             "#7201a8"
            ],
            [
             0.3333333333333333,
             "#9c179e"
            ],
            [
             0.4444444444444444,
             "#bd3786"
            ],
            [
             0.5555555555555556,
             "#d8576b"
            ],
            [
             0.6666666666666666,
             "#ed7953"
            ],
            [
             0.7777777777777778,
             "#fb9f3a"
            ],
            [
             0.8888888888888888,
             "#fdca26"
            ],
            [
             1,
             "#f0f921"
            ]
           ]
          },
          "colorway": [
           "#636efa",
           "#EF553B",
           "#00cc96",
           "#ab63fa",
           "#FFA15A",
           "#19d3f3",
           "#FF6692",
           "#B6E880",
           "#FF97FF",
           "#FECB52"
          ],
          "font": {
           "color": "#2a3f5f"
          },
          "geo": {
           "bgcolor": "white",
           "lakecolor": "white",
           "landcolor": "white",
           "showlakes": true,
           "showland": true,
           "subunitcolor": "#C8D4E3"
          },
          "hoverlabel": {
           "align": "left"
          },
          "hovermode": "closest",
          "mapbox": {
           "style": "light"
          },
          "paper_bgcolor": "white",
          "plot_bgcolor": "white",
          "polar": {
           "angularaxis": {
            "gridcolor": "#EBF0F8",
            "linecolor": "#EBF0F8",
            "ticks": ""
           },
           "bgcolor": "white",
           "radialaxis": {
            "gridcolor": "#EBF0F8",
            "linecolor": "#EBF0F8",
            "ticks": ""
           }
          },
          "scene": {
           "xaxis": {
            "backgroundcolor": "white",
            "gridcolor": "#DFE8F3",
            "gridwidth": 2,
            "linecolor": "#EBF0F8",
            "showbackground": true,
            "ticks": "",
            "zerolinecolor": "#EBF0F8"
           },
           "yaxis": {
            "backgroundcolor": "white",
            "gridcolor": "#DFE8F3",
            "gridwidth": 2,
            "linecolor": "#EBF0F8",
            "showbackground": true,
            "ticks": "",
            "zerolinecolor": "#EBF0F8"
           },
           "zaxis": {
            "backgroundcolor": "white",
            "gridcolor": "#DFE8F3",
            "gridwidth": 2,
            "linecolor": "#EBF0F8",
            "showbackground": true,
            "ticks": "",
            "zerolinecolor": "#EBF0F8"
           }
          },
          "shapedefaults": {
           "line": {
            "color": "#2a3f5f"
           }
          },
          "ternary": {
           "aaxis": {
            "gridcolor": "#DFE8F3",
            "linecolor": "#A2B1C6",
            "ticks": ""
           },
           "baxis": {
            "gridcolor": "#DFE8F3",
            "linecolor": "#A2B1C6",
            "ticks": ""
           },
           "bgcolor": "white",
           "caxis": {
            "gridcolor": "#DFE8F3",
            "linecolor": "#A2B1C6",
            "ticks": ""
           }
          },
          "title": {
           "x": 0.05
          },
          "xaxis": {
           "automargin": true,
           "gridcolor": "#EBF0F8",
           "linecolor": "#EBF0F8",
           "ticks": "",
           "title": {
            "standoff": 15
           },
           "zerolinecolor": "#EBF0F8",
           "zerolinewidth": 2
          },
          "yaxis": {
           "automargin": true,
           "gridcolor": "#EBF0F8",
           "linecolor": "#EBF0F8",
           "ticks": "",
           "title": {
            "standoff": 15
           },
           "zerolinecolor": "#EBF0F8",
           "zerolinewidth": 2
          }
         }
        },
        "title": {
         "font": {
          "color": "Black",
          "size": 22
         },
         "text": "Topic Word Scores",
         "x": 0.5,
         "xanchor": "center",
         "yanchor": "top"
        },
        "width": 1000,
        "xaxis": {
         "anchor": "y",
         "domain": [
          0,
          0.175
         ],
         "showgrid": true
        },
        "xaxis2": {
         "anchor": "y2",
         "domain": [
          0.275,
          0.45
         ],
         "showgrid": true
        },
        "xaxis3": {
         "anchor": "y3",
         "domain": [
          0.55,
          0.7250000000000001
         ],
         "showgrid": true
        },
        "xaxis4": {
         "anchor": "y4",
         "domain": [
          0.825,
          1
         ],
         "showgrid": true
        },
        "xaxis5": {
         "anchor": "y5",
         "domain": [
          0,
          0.175
         ],
         "showgrid": true
        },
        "xaxis6": {
         "anchor": "y6",
         "domain": [
          0.275,
          0.45
         ],
         "showgrid": true
        },
        "xaxis7": {
         "anchor": "y7",
         "domain": [
          0.55,
          0.7250000000000001
         ],
         "showgrid": true
        },
        "xaxis8": {
         "anchor": "y8",
         "domain": [
          0.825,
          1
         ],
         "showgrid": true
        },
        "yaxis": {
         "anchor": "x",
         "domain": [
          0.6000000000000001,
          1
         ],
         "showgrid": true
        },
        "yaxis2": {
         "anchor": "x2",
         "domain": [
          0.6000000000000001,
          1
         ],
         "showgrid": true
        },
        "yaxis3": {
         "anchor": "x3",
         "domain": [
          0.6000000000000001,
          1
         ],
         "showgrid": true
        },
        "yaxis4": {
         "anchor": "x4",
         "domain": [
          0.6000000000000001,
          1
         ],
         "showgrid": true
        },
        "yaxis5": {
         "anchor": "x5",
         "domain": [
          0,
          0.4
         ],
         "showgrid": true
        },
        "yaxis6": {
         "anchor": "x6",
         "domain": [
          0,
          0.4
         ],
         "showgrid": true
        },
        "yaxis7": {
         "anchor": "x7",
         "domain": [
          0,
          0.4
         ],
         "showgrid": true
        },
        "yaxis8": {
         "anchor": "x8",
         "domain": [
          0,
          0.4
         ],
         "showgrid": true
        }
       }
      }
     },
     "metadata": {},
     "output_type": "display_data"
    }
   ],
   "source": [
    "# Step 8: Visualisasi Distribusi Topik dalam Dokumen\n",
    "topic_model.visualize_barchart()"
   ]
  }
 ],
 "metadata": {
  "kernelspec": {
   "display_name": "home",
   "language": "python",
   "name": "python3"
  },
  "language_info": {
   "codemirror_mode": {
    "name": "ipython",
    "version": 3
   },
   "file_extension": ".py",
   "mimetype": "text/x-python",
   "name": "python",
   "nbconvert_exporter": "python",
   "pygments_lexer": "ipython3",
   "version": "3.12.5"
  }
 },
 "nbformat": 4,
 "nbformat_minor": 2
}
