{
 "cells": [
  {
   "cell_type": "code",
   "execution_count": null,
   "metadata": {},
   "outputs": [],
   "source": [
    "from bertopic import BERTopic\n",
    "from sklearn.metrics import silhouette_score\n",
    "import pandas as pd\n",
    "import numpy as np"
   ]
  },
  {
   "cell_type": "code",
   "execution_count": null,
   "metadata": {},
   "outputs": [],
   "source": [
    "# Data\n",
    "df_cleaned = pd.read_csv(r'tweets-data\\cleaned.csv')\n",
    "\n",
    "#slicing\n",
    "df_cleaned = df_cleaned.iloc[1500:,:]\n",
    "df_cleaned"
   ]
  },
  {
   "cell_type": "code",
   "execution_count": null,
   "metadata": {},
   "outputs": [],
   "source": [
    "# Step 1: Preprocessing Data\n",
    "# Mengganti NaN dengan string kosong\n",
    "df_cleaned['clean_text'] = df_cleaned['clean_text'].fillna(\"\")"
   ]
  },
  {
   "cell_type": "code",
   "execution_count": null,
   "metadata": {},
   "outputs": [],
   "source": [
    "# Step 2: Inisialisasi Model BERTopic\n",
    "topic_model = BERTopic(language=\"indonesian\", calculate_probabilities=True, verbose=True)\n",
    "\n",
    "# Step 3: Latih Model pada Data\n",
    "texts = df_cleaned['clean_text'].tolist()\n",
    "topics, probs = topic_model.fit_transform(texts)"
   ]
  },
  {
   "cell_type": "code",
   "execution_count": null,
   "metadata": {},
   "outputs": [],
   "source": [
    "# Step 4: Evaluasi dengan Topic Coherence\n",
    "topic_coherence = topic_model.get_topic_coherence()\n",
    "print(f\"\\nCoherence Score untuk BERTopic: {np.mean(topic_coherence)}\")"
   ]
  },
  {
   "cell_type": "code",
   "execution_count": null,
   "metadata": {},
   "outputs": [],
   "source": [
    "# Step 5: Evaluasi dengan Silhouette Score\n",
    "# Menggunakan representasi vektor dari dokumen yang dihasilkan oleh BERTopic\n",
    "embeddings = topic_model.transform(texts)\n",
    "\n",
    "# Menghitung Silhouette Score untuk clustering\n",
    "silhouette_avg = silhouette_score(embeddings, topics)\n",
    "print(f\"Silhouette Score untuk BERTopic: {silhouette_avg}\")"
   ]
  },
  {
   "cell_type": "code",
   "execution_count": null,
   "metadata": {},
   "outputs": [],
   "source": [
    "# Step 6: Menampilkan Topik yang Ditemukan\n",
    "topic_info = topic_model.get_topic_info()\n",
    "print(\"\\nInformasi Topik yang Ditemukan:\")\n",
    "print(topic_info)"
   ]
  },
  {
   "cell_type": "code",
   "execution_count": null,
   "metadata": {},
   "outputs": [],
   "source": [
    "# Step 7: Visualisasi Hierarki Topik\n",
    "topic_model.visualize_hierarchy()"
   ]
  },
  {
   "cell_type": "code",
   "execution_count": null,
   "metadata": {},
   "outputs": [],
   "source": [
    "# Step 8: Visualisasi Distribusi Topik dalam Dokumen\n",
    "topic_model.visualize_barchart()"
   ]
  }
 ],
 "metadata": {
  "language_info": {
   "name": "python"
  }
 },
 "nbformat": 4,
 "nbformat_minor": 2
}
