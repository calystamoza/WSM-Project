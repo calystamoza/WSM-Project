{
 "cells": [
  {
   "cell_type": "markdown",
   "metadata": {},
   "source": [
    "## Versi 1"
   ]
  },
  {
   "cell_type": "code",
   "execution_count": 2,
   "metadata": {},
   "outputs": [],
   "source": [
    "import pandas as pd\n",
    "import numpy as np\n",
    "import matplotlib.pyplot as plt\n",
    "from sklearn.feature_extraction.text import CountVectorizer\n",
    "from sklearn.decomposition import LatentDirichletAllocation\n",
    "from sklearn.metrics import cohen_kappa_score\n",
    "from sklearn.metrics import pairwise_distances"
   ]
  },
  {
   "cell_type": "code",
   "execution_count": 37,
   "metadata": {},
   "outputs": [
    {
     "data": {
      "text/html": [
       "<div>\n",
       "<style scoped>\n",
       "    .dataframe tbody tr th:only-of-type {\n",
       "        vertical-align: middle;\n",
       "    }\n",
       "\n",
       "    .dataframe tbody tr th {\n",
       "        vertical-align: top;\n",
       "    }\n",
       "\n",
       "    .dataframe thead th {\n",
       "        text-align: right;\n",
       "    }\n",
       "</style>\n",
       "<table border=\"1\" class=\"dataframe\">\n",
       "  <thead>\n",
       "    <tr style=\"text-align: right;\">\n",
       "      <th></th>\n",
       "      <th>created_at</th>\n",
       "      <th>full_text</th>\n",
       "      <th>location</th>\n",
       "      <th>mentions</th>\n",
       "      <th>tokens</th>\n",
       "      <th>stemmed_tokens</th>\n",
       "      <th>clean_text</th>\n",
       "    </tr>\n",
       "  </thead>\n",
       "  <tbody>\n",
       "    <tr>\n",
       "      <th>0</th>\n",
       "      <td>Tue Sep 17 23:55:49 +0000 2024</td>\n",
       "      <td>Yuk ganyang Fufufafa sesuai anjuran HRS PKS pa...</td>\n",
       "      <td>NaN</td>\n",
       "      <td>['@UusRsd', '@msaid_didu']</td>\n",
       "      <td>['Yuk', 'ganyang', 'Fufufafa', 'sesuai', 'anju...</td>\n",
       "      <td>['yuk', 'ganyang', 'fufufafa', 'sesuai', 'anju...</td>\n",
       "      <td>yuk ganyang fufufafa sesuai anjur hrs pks bera...</td>\n",
       "    </tr>\n",
       "    <tr>\n",
       "      <th>1</th>\n",
       "      <td>Tue Sep 17 23:55:41 +0000 2024</td>\n",
       "      <td>Biasadrama mulyonopura kaget fufufafa fufufafaaaa</td>\n",
       "      <td>NaN</td>\n",
       "      <td>['@kompascom']</td>\n",
       "      <td>['Biasadrama', 'mulyonopura', 'kaget', 'fufufa...</td>\n",
       "      <td>['biasadrama', 'mulyonopura', 'kaget', 'fufufa...</td>\n",
       "      <td>biasadrama mulyonopura kaget fufufafa fufufafaaaa</td>\n",
       "    </tr>\n",
       "    <tr>\n",
       "      <th>2</th>\n",
       "      <td>Tue Sep 17 23:55:11 +0000 2024</td>\n",
       "      <td>Jamet menjijikkan Mesum pula</td>\n",
       "      <td>Jakarta Capital Region, Indone</td>\n",
       "      <td>['@fufu__fafa']</td>\n",
       "      <td>['Jamet', 'menjijikkan', 'Mesum']</td>\n",
       "      <td>['jamet', 'jijik', 'mesum']</td>\n",
       "      <td>jamet jijik mesum</td>\n",
       "    </tr>\n",
       "    <tr>\n",
       "      <th>3</th>\n",
       "      <td>Tue Sep 17 23:55:00 +0000 2024</td>\n",
       "      <td>Nebeng temenato nebeng sopir temen Fufufafa fu...</td>\n",
       "      <td>NaN</td>\n",
       "      <td>['@satriohendri']</td>\n",
       "      <td>['Nebeng', 'temenato', 'nebeng', 'sopir', 'tem...</td>\n",
       "      <td>['nebeng', 'temenato', 'nebeng', 'sopir', 'tem...</td>\n",
       "      <td>nebeng temenato nebeng sopir temen fufufafa fu...</td>\n",
       "    </tr>\n",
       "    <tr>\n",
       "      <th>4</th>\n",
       "      <td>Tue Sep 17 23:54:58 +0000 2024</td>\n",
       "      <td>kasian org ini model penakut Sama fufufafa yg ...</td>\n",
       "      <td>NaN</td>\n",
       "      <td>['@andikamalreza']</td>\n",
       "      <td>['kasian', 'org', 'model', 'penakut', 'fufufaf...</td>\n",
       "      <td>['kasi', 'org', 'model', 'takut', 'fufufafa', ...</td>\n",
       "      <td>kasi org model takut fufufafa yg udah hina dia...</td>\n",
       "    </tr>\n",
       "    <tr>\n",
       "      <th>...</th>\n",
       "      <td>...</td>\n",
       "      <td>...</td>\n",
       "      <td>...</td>\n",
       "      <td>...</td>\n",
       "      <td>...</td>\n",
       "      <td>...</td>\n",
       "      <td>...</td>\n",
       "    </tr>\n",
       "    <tr>\n",
       "      <th>996</th>\n",
       "      <td>Tue Sep 17 11:19:02 +0000 2024</td>\n",
       "      <td>Fufufafa wkkk</td>\n",
       "      <td>NaN</td>\n",
       "      <td>['@aewin86', '@BankSinarmas']</td>\n",
       "      <td>['Fufufafa', 'wkkk']</td>\n",
       "      <td>['fufufafa', 'wkkk']</td>\n",
       "      <td>fufufafa wkkk</td>\n",
       "    </tr>\n",
       "    <tr>\n",
       "      <th>997</th>\n",
       "      <td>Tue Sep 17 11:18:40 +0000 2024</td>\n",
       "      <td>Diem lu mending cebokin dulu sonoh si fufufafa</td>\n",
       "      <td>NaN</td>\n",
       "      <td>['@Ayah3bidadari', '@AndiSinulingga']</td>\n",
       "      <td>['Diem', 'lu', 'mending', 'cebokin', 'sonoh', ...</td>\n",
       "      <td>['diem', 'lu', 'mending', 'cebokin', 'sonoh', ...</td>\n",
       "      <td>diem lu mending cebokin sonoh si fufufafa</td>\n",
       "    </tr>\n",
       "    <tr>\n",
       "      <th>998</th>\n",
       "      <td>Tue Sep 17 11:18:26 +0000 2024</td>\n",
       "      <td>Mungkin ada baiknya kita tunggu kapan menyanyi...</td>\n",
       "      <td>NaN</td>\n",
       "      <td>['@PKSejahtera_ID']</td>\n",
       "      <td>['baiknya', 'tunggu', 'menyanyikan', 'lagu', '...</td>\n",
       "      <td>['baik', 'tunggu', 'nyanyi', 'lagu', 'ganyang'...</td>\n",
       "      <td>baik tunggu nyanyi lagu ganyang fufufafa dinya...</td>\n",
       "    </tr>\n",
       "    <tr>\n",
       "      <th>999</th>\n",
       "      <td>Tue Sep 17 11:18:10 +0000 2024</td>\n",
       "      <td>Mungkin ada baiknya kita tunggu kapan menyanyi...</td>\n",
       "      <td>NaN</td>\n",
       "      <td>['@msaid_didu', '@PKSejahtera_ID']</td>\n",
       "      <td>['baiknya', 'tunggu', 'menyanyikan', 'lagu', '...</td>\n",
       "      <td>['baik', 'tunggu', 'nyanyi', 'lagu', 'ganyang'...</td>\n",
       "      <td>baik tunggu nyanyi lagu ganyang fufufafa dinya...</td>\n",
       "    </tr>\n",
       "    <tr>\n",
       "      <th>1000</th>\n",
       "      <td>Tue Sep 17 11:17:53 +0000 2024</td>\n",
       "      <td>Tetep aja kualitas fufufafa IQ beruk</td>\n",
       "      <td>NaN</td>\n",
       "      <td>['@Triaswa32', '@AntarticaSnowWW', '@NenkMonica']</td>\n",
       "      <td>['Tetep', 'aja', 'kualitas', 'fufufafa', 'IQ',...</td>\n",
       "      <td>['tetep', 'aja', 'kualitas', 'fufufafa', 'iq',...</td>\n",
       "      <td>tetep aja kualitas fufufafa iq beruk</td>\n",
       "    </tr>\n",
       "  </tbody>\n",
       "</table>\n",
       "<p>1001 rows × 7 columns</p>\n",
       "</div>"
      ],
      "text/plain": [
       "                          created_at  \\\n",
       "0     Tue Sep 17 23:55:49 +0000 2024   \n",
       "1     Tue Sep 17 23:55:41 +0000 2024   \n",
       "2     Tue Sep 17 23:55:11 +0000 2024   \n",
       "3     Tue Sep 17 23:55:00 +0000 2024   \n",
       "4     Tue Sep 17 23:54:58 +0000 2024   \n",
       "...                              ...   \n",
       "996   Tue Sep 17 11:19:02 +0000 2024   \n",
       "997   Tue Sep 17 11:18:40 +0000 2024   \n",
       "998   Tue Sep 17 11:18:26 +0000 2024   \n",
       "999   Tue Sep 17 11:18:10 +0000 2024   \n",
       "1000  Tue Sep 17 11:17:53 +0000 2024   \n",
       "\n",
       "                                              full_text  \\\n",
       "0     Yuk ganyang Fufufafa sesuai anjuran HRS PKS pa...   \n",
       "1     Biasadrama mulyonopura kaget fufufafa fufufafaaaa   \n",
       "2                          Jamet menjijikkan Mesum pula   \n",
       "3     Nebeng temenato nebeng sopir temen Fufufafa fu...   \n",
       "4     kasian org ini model penakut Sama fufufafa yg ...   \n",
       "...                                                 ...   \n",
       "996                                       Fufufafa wkkk   \n",
       "997      Diem lu mending cebokin dulu sonoh si fufufafa   \n",
       "998   Mungkin ada baiknya kita tunggu kapan menyanyi...   \n",
       "999   Mungkin ada baiknya kita tunggu kapan menyanyi...   \n",
       "1000               Tetep aja kualitas fufufafa IQ beruk   \n",
       "\n",
       "                            location  \\\n",
       "0                                NaN   \n",
       "1                                NaN   \n",
       "2     Jakarta Capital Region, Indone   \n",
       "3                                NaN   \n",
       "4                                NaN   \n",
       "...                              ...   \n",
       "996                              NaN   \n",
       "997                              NaN   \n",
       "998                              NaN   \n",
       "999                              NaN   \n",
       "1000                             NaN   \n",
       "\n",
       "                                               mentions  \\\n",
       "0                            ['@UusRsd', '@msaid_didu']   \n",
       "1                                        ['@kompascom']   \n",
       "2                                       ['@fufu__fafa']   \n",
       "3                                     ['@satriohendri']   \n",
       "4                                    ['@andikamalreza']   \n",
       "...                                                 ...   \n",
       "996                       ['@aewin86', '@BankSinarmas']   \n",
       "997               ['@Ayah3bidadari', '@AndiSinulingga']   \n",
       "998                                 ['@PKSejahtera_ID']   \n",
       "999                  ['@msaid_didu', '@PKSejahtera_ID']   \n",
       "1000  ['@Triaswa32', '@AntarticaSnowWW', '@NenkMonica']   \n",
       "\n",
       "                                                 tokens  \\\n",
       "0     ['Yuk', 'ganyang', 'Fufufafa', 'sesuai', 'anju...   \n",
       "1     ['Biasadrama', 'mulyonopura', 'kaget', 'fufufa...   \n",
       "2                     ['Jamet', 'menjijikkan', 'Mesum']   \n",
       "3     ['Nebeng', 'temenato', 'nebeng', 'sopir', 'tem...   \n",
       "4     ['kasian', 'org', 'model', 'penakut', 'fufufaf...   \n",
       "...                                                 ...   \n",
       "996                                ['Fufufafa', 'wkkk']   \n",
       "997   ['Diem', 'lu', 'mending', 'cebokin', 'sonoh', ...   \n",
       "998   ['baiknya', 'tunggu', 'menyanyikan', 'lagu', '...   \n",
       "999   ['baiknya', 'tunggu', 'menyanyikan', 'lagu', '...   \n",
       "1000  ['Tetep', 'aja', 'kualitas', 'fufufafa', 'IQ',...   \n",
       "\n",
       "                                         stemmed_tokens  \\\n",
       "0     ['yuk', 'ganyang', 'fufufafa', 'sesuai', 'anju...   \n",
       "1     ['biasadrama', 'mulyonopura', 'kaget', 'fufufa...   \n",
       "2                           ['jamet', 'jijik', 'mesum']   \n",
       "3     ['nebeng', 'temenato', 'nebeng', 'sopir', 'tem...   \n",
       "4     ['kasi', 'org', 'model', 'takut', 'fufufafa', ...   \n",
       "...                                                 ...   \n",
       "996                                ['fufufafa', 'wkkk']   \n",
       "997   ['diem', 'lu', 'mending', 'cebokin', 'sonoh', ...   \n",
       "998   ['baik', 'tunggu', 'nyanyi', 'lagu', 'ganyang'...   \n",
       "999   ['baik', 'tunggu', 'nyanyi', 'lagu', 'ganyang'...   \n",
       "1000  ['tetep', 'aja', 'kualitas', 'fufufafa', 'iq',...   \n",
       "\n",
       "                                             clean_text  \n",
       "0     yuk ganyang fufufafa sesuai anjur hrs pks bera...  \n",
       "1     biasadrama mulyonopura kaget fufufafa fufufafaaaa  \n",
       "2                                     jamet jijik mesum  \n",
       "3     nebeng temenato nebeng sopir temen fufufafa fu...  \n",
       "4     kasi org model takut fufufafa yg udah hina dia...  \n",
       "...                                                 ...  \n",
       "996                                       fufufafa wkkk  \n",
       "997           diem lu mending cebokin sonoh si fufufafa  \n",
       "998   baik tunggu nyanyi lagu ganyang fufufafa dinya...  \n",
       "999   baik tunggu nyanyi lagu ganyang fufufafa dinya...  \n",
       "1000               tetep aja kualitas fufufafa iq beruk  \n",
       "\n",
       "[1001 rows x 7 columns]"
      ]
     },
     "execution_count": 37,
     "metadata": {},
     "output_type": "execute_result"
    }
   ],
   "source": [
    "# Data\n",
    "df_cleaned = pd.read_csv(r'tweets-data\\cleaned.csv')\n",
    "\n",
    "#slicing\n",
    "df_cleaned = df_cleaned.iloc[:1001,:]\n",
    "df_cleaned"
   ]
  },
  {
   "cell_type": "code",
   "execution_count": 38,
   "metadata": {},
   "outputs": [],
   "source": [
    "df_cleaned = df_cleaned.dropna(subset=['clean_text'])\n",
    "\n",
    "# Menggunakan stopwords bahasa Indonesia dari `scikit-learn`\n",
    "stopwords_id = [\"yang\", \"dan\", \"di\", \"ke\", \"dari\", \"pada\", \"untuk\", \"dengan\", \"seperti\", \"adalah\", \"juga\", \"ini\", \"itu\", \"itu\", \"pada\", \"saat\"]\n",
    "\n",
    "# Inisialisasi CountVectorizer dengan stopwords bahasa Indonesia\n",
    "vectorizer = CountVectorizer(stop_words=stopwords_id)\n",
    "X = vectorizer.fit_transform(df_cleaned['clean_text'])"
   ]
  },
  {
   "cell_type": "code",
   "execution_count": 39,
   "metadata": {},
   "outputs": [
    {
     "name": "stdout",
     "output_type": "stream",
     "text": [
      "(999, 3106)\n"
     ]
    }
   ],
   "source": [
    "# Banyak dokumen (baris) dan fitur (kata unik) yang ada setelah proses BoW\n",
    "print(X.shape)"
   ]
  },
  {
   "cell_type": "code",
   "execution_count": 40,
   "metadata": {},
   "outputs": [
    {
     "name": "stdout",
     "output_type": "stream",
     "text": [
      "['aaaah' 'aaah' 'aamiin' 'abad' 'abah' 'abahpaye' 'abai' 'abal' 'abang'\n",
      " 'abis']\n"
     ]
    }
   ],
   "source": [
    "# 10 kata pertama dalam vocabulary yang dihasilkan oleh CountVectorizer\n",
    "print(vectorizer.get_feature_names_out()[:10])"
   ]
  },
  {
   "cell_type": "code",
   "execution_count": 41,
   "metadata": {},
   "outputs": [
    {
     "name": "stdout",
     "output_type": "stream",
     "text": [
      "Topic 0:\n",
      "['pribadi', 'selasa', 'rakyat', 'tau', 'mulyono', 'orang', 'prabowo', 'puncak', 'gibran', 'berani', 'slot', 'gacor', 'anak', 'gak', 'ga', 'amp', 'akun', 'aja', 'yg', 'fufufafa']\n",
      "Topic 1:\n",
      "['tinggal', 'prabowo', 'abah', 'emang', 'aja', 'bela', 'gibran', 'ya', 'serang', 'yg', 'akun', 'satu', 'fafa', 'hrs', 'ganyang', 'fufu', 'nya', 'dukung', 'pks', 'fufufafa']\n",
      "Topic 2:\n",
      "['bahaya', 'ga', 'perintah', 'orang', 'presiden', 'jelek', 'tindak', 'lu', 'amp', 'hina', 'beliau', 'banget', 'nya', 'keluarga', 'si', 'akun', 'yg', 'prabowo', 'tdk', 'fufufafa']\n",
      "Topic 3:\n",
      "['sih', 'indonesia', 'kayak', 'org', 'keluarga', 'prabowo', 'hina', 'milik', 'biar', 'gak', 'nebeng', 'bahas', 'rakyat', 'aja', 'si', 'gibran', 'akun', 'ya', 'yg', 'fufufafa']\n",
      "Topic 4:\n",
      "['presiden', 'pasir', 'ga', 'serang', 'keluarga', 'solo', 'milik', 'pake', 'udah', 'orang', 'si', 'tp', 'aja', 'yg', 'akun', 'anak', 'nebeng', 'ya', 'mulyono', 'fufufafa']\n"
     ]
    }
   ],
   "source": [
    "# Step 3: Apply LDA model using Scikit-learn's LatentDirichletAllocation\n",
    "lda_model = LatentDirichletAllocation(n_components=5, random_state=42)\n",
    "lda_model.fit(X)\n",
    "\n",
    "# Step 4: Display the topics\n",
    "# Get the words for each topic\n",
    "words = vectorizer.get_feature_names_out()\n",
    "\n",
    "for idx, topic in enumerate(lda_model.components_):\n",
    "    print(f\"Topic {idx}:\")\n",
    "    print([words[i] for i in topic.argsort()[-20:]])  # Top 10 words for each topic"
   ]
  },
  {
   "cell_type": "code",
   "execution_count": 42,
   "metadata": {},
   "outputs": [
    {
     "name": "stdout",
     "output_type": "stream",
     "text": [
      "Model Perplexity: 1756.481229150261\n",
      "Coherence Score: 0.5165004007454721\n"
     ]
    }
   ],
   "source": [
    "# Step 5: Calculate Perplexity for LDA Model\n",
    "# Perplexity measures how well the model predicts the data. Lower perplexity indicates better performance.\n",
    "perplexity = lda_model.perplexity(X)\n",
    "print(f\"Model Perplexity: {perplexity}\")\n",
    "\n",
    "# Step 6: Calculate Coherence Score\n",
    "# Coherence measures the interpretability of the topics by checking how frequently the top words of each topic appear together.\n",
    "\n",
    "def coherence_score(lda_model, X, vectorizer, top_n=10):\n",
    "    # Get topic-word distributions\n",
    "    topic_word_matrix = lda_model.components_ / lda_model.components_.sum(axis=1)[:, np.newaxis]\n",
    "    vocabulary = np.array(vectorizer.get_feature_names_out())\n",
    "\n",
    "    # Compute pairwise distances between the top words of each topic\n",
    "    coherence_scores = []\n",
    "    for topic_idx, topic in enumerate(topic_word_matrix):\n",
    "        top_words = vocabulary[np.argsort(topic)[-top_n:]]  # Get top_n words for each topic\n",
    "        top_word_vectors = X[:, [vectorizer.vocabulary_[word] for word in top_words]].toarray()\n",
    "        # Calculate pairwise cosine similarity\n",
    "        topic_coherence = np.mean(pairwise_distances(top_word_vectors, metric=\"cosine\"))\n",
    "        coherence_scores.append(topic_coherence)\n",
    "\n",
    "    return np.mean(coherence_scores)\n",
    "\n",
    "coherence = coherence_score(lda_model, X, vectorizer)\n",
    "print(f\"Coherence Score: {coherence}\")\n"
   ]
  },
  {
   "cell_type": "markdown",
   "metadata": {},
   "source": [
    "## Versi 2"
   ]
  },
  {
   "cell_type": "code",
   "execution_count": 43,
   "metadata": {},
   "outputs": [],
   "source": [
    "import pandas as pd\n",
    "from sklearn.feature_extraction.text import CountVectorizer\n",
    "from sklearn.decomposition import LatentDirichletAllocation\n",
    "from sklearn.metrics import cohen_kappa_score\n",
    "import numpy as np\n",
    "import matplotlib.pyplot as plt"
   ]
  },
  {
   "cell_type": "code",
   "execution_count": 45,
   "metadata": {},
   "outputs": [
    {
     "name": "stdout",
     "output_type": "stream",
     "text": [
      "=== Bag of Words ===\n",
      "   aamiin  abah  abai  abang  abis  ad  adab  adeknya  adik  adil  ...  yaaa  \\\n",
      "0       0     0     0      0     0   0     0        0     0     0  ...     0   \n",
      "1       0     0     0      0     0   0     0        0     0     0  ...     0   \n",
      "2       0     0     0      0     0   0     0        0     0     0  ...     0   \n",
      "3       0     0     0      0     0   0     0        0     0     0  ...     0   \n",
      "4       0     0     0      0     0   0     0        0     0     0  ...     0   \n",
      "\n",
      "   yah  yahudi  yes  yg  you  youtube  yuk  zonajajan  zonauang  \n",
      "0    0       0    0   0    0        0    1          0         0  \n",
      "1    0       0    0   0    0        0    0          0         0  \n",
      "2    0       0    0   0    0        0    0          0         0  \n",
      "3    0       0    0   0    0        0    0          0         0  \n",
      "4    0       0    0   1    0        0    0          0         0  \n",
      "\n",
      "[5 rows x 1173 columns]\n"
     ]
    }
   ],
   "source": [
    "# Step 2: Membuat BoW menggunakan CountVectorizer\n",
    "vectorizer = CountVectorizer(max_df=0.95, min_df=2, stop_words=stopwords_id)\n",
    "X = vectorizer.fit_transform(df_cleaned['clean_text'])\n",
    "\n",
    "# Tampilkan Bag of Words\n",
    "print(\"=== Bag of Words ===\")\n",
    "print(pd.DataFrame(X.toarray(), columns=vectorizer.get_feature_names_out()).head())"
   ]
  },
  {
   "cell_type": "code",
   "execution_count": 46,
   "metadata": {},
   "outputs": [],
   "source": [
    "# Step 3: Train LDA model with different components\n",
    "perplexities = []\n",
    "coherence_scores = []\n",
    "n_topics_range = range(2, 11)  # Range of topics to evaluate\n",
    "\n",
    "for n_topics in n_topics_range:\n",
    "    lda_model = LatentDirichletAllocation(n_components=n_topics, random_state=42)\n",
    "    lda_model.fit(X)\n",
    "    \n",
    "    # Calculate perplexity\n",
    "    perplexity = lda_model.perplexity(X)\n",
    "    perplexities.append(perplexity)\n",
    "\n",
    "    # Hitung coherence score menggunakan fungsi yang diberikan\n",
    "    def coherence_score(lda_model, X, vectorizer, top_n=10):\n",
    "        # Get topic-word distributions\n",
    "        topic_word_matrix = lda_model.components_ / lda_model.components_.sum(axis=1)[:, np.newaxis]\n",
    "        vocabulary = np.array(vectorizer.get_feature_names_out())\n",
    "\n",
    "        # Compute pairwise distances between the top words of each topic\n",
    "        coherence_scores = []\n",
    "        for topic_idx, topic in enumerate(topic_word_matrix):\n",
    "            top_words = vocabulary[np.argsort(topic)[-top_n:]]  # Get top_n words for each topic\n",
    "            top_word_vectors = X[:, [vectorizer.vocabulary_[word] for word in top_words]].toarray()\n",
    "            # Calculate pairwise cosine similarity\n",
    "            topic_coherence = np.mean(pairwise_distances(top_word_vectors, metric=\"cosine\"))\n",
    "            coherence_scores.append(topic_coherence)\n",
    "\n",
    "        return np.mean(coherence_scores)\n",
    "\n",
    "    coherence_score_value = coherence_score(lda_model, X, vectorizer)\n",
    "    coherence_scores.append(coherence_score_value)"
   ]
  },
  {
   "cell_type": "code",
   "execution_count": 47,
   "metadata": {},
   "outputs": [
    {
     "data": {
      "image/png": "[encoded data removed]",
      "text/plain": [
       "<Figure size 1000x500 with 2 Axes>"
      ]
     },
     "metadata": {},
     "output_type": "display_data"
    }
   ],
   "source": [
    "# Step 4: Visualize Perplexity and Coherence Score\n",
    "fig, ax1 = plt.subplots(figsize=(10, 5))\n",
    "\n",
    "# Plot Perplexity and Coherence Score\n",
    "ax1.plot(n_topics_range, perplexities, marker='o', color='b', label='Perplexity')\n",
    "ax1.set_xlabel('Number of Topics')\n",
    "ax1.set_ylabel('Perplexity', color='b')\n",
    "ax1.tick_params(axis='y', labelcolor='b')\n",
    "\n",
    "# Plot Coherence Score\n",
    "ax2 = ax1.twinx()\n",
    "ax2.plot(n_topics_range, coherence_scores, marker='s', color='r', linestyle='--', label='Coherence Score')\n",
    "ax2.set_ylabel('Coherence Score', color='r')\n",
    "ax2.tick_params(axis='y', labelcolor='r')\n",
    "\n",
    "fig.suptitle('Perplexity and Coherence Score vs Number of Topics')\n",
    "fig.tight_layout()\n",
    "\n",
    "# Tambahkan legend\n",
    "ax1.legend(loc='upper left')\n",
    "ax2.legend(loc='upper right')\n",
    "\n",
    "plt.show()"
   ]
  },
  {
   "cell_type": "code",
   "execution_count": 48,
   "metadata": {},
   "outputs": [
    {
     "name": "stdout",
     "output_type": "stream",
     "text": [
      "\n",
      "=== Evaluation Results ===\n",
      "   Number of Topics  Perplexity  Coherence Score\n",
      "0                 2  575.079126         0.516709\n",
      "1                 3  596.977165         0.519013\n",
      "2                 4  631.988658         0.525124\n",
      "3                 5  661.986494         0.517534\n",
      "4                 6  677.811647         0.501722\n",
      "5                 7  701.848481         0.503863\n",
      "6                 8  706.323248         0.492173\n",
      "7                 9  716.468731         0.499464\n",
      "8                10  731.781993         0.491457\n"
     ]
    }
   ],
   "source": [
    "# Step 6: Create a DataFrame for the results\n",
    "results_df = pd.DataFrame({\n",
    "    'Number of Topics': range(2,11),\n",
    "    'Perplexity': perplexities,\n",
    "    'Coherence Score': coherence_scores\n",
    "})\n",
    "\n",
    "# Display the table\n",
    "print(\"\\n=== Evaluation Results ===\")\n",
    "print(results_df)"
   ]
  },
  {
   "cell_type": "code",
   "execution_count": 49,
   "metadata": {},
   "outputs": [
    {
     "name": "stdout",
     "output_type": "stream",
     "text": [
      "\n",
      "=== LDA Topics ===\n",
      "Topic 1:\n",
      "['banget', 'tau', 'yg', 'gibran', 'bahas', 'aja', 'nya', 'akun', 'ya', 'fufufafa']\n",
      "Topic 2:\n",
      "['milik', 'mulyono', 'orang', 'si', 'gak', 'gibran', 'aja', 'akun', 'yg', 'fufufafa']\n",
      "Topic 3:\n",
      "['keluarga', 'amp', 'akun', 'pks', 'si', 'hina', 'prabowo', 'tdk', 'yg', 'fufufafa']\n",
      "Topic 4:\n",
      "['gacor', 'puncak', 'wapres', 'gibran', 'ga', 'rakyat', 'amp', 'yg', 'nebeng', 'fufufafa']\n"
     ]
    }
   ],
   "source": [
    "# Step 5: Display the topics from the final LDA model (with best n_components)\n",
    "best_n_topics = 4  # Choose the best number based on the graphs\n",
    "lda_model = LatentDirichletAllocation(n_components=best_n_topics, random_state=42)\n",
    "lda_model.fit(X)\n",
    "\n",
    "# Display the topics\n",
    "words = vectorizer.get_feature_names_out()\n",
    "print(\"\\n=== LDA Topics ===\")\n",
    "for idx, topic in enumerate(lda_model.components_):\n",
    "    print(f\"Topic {idx + 1}:\")\n",
    "    print([words[i] for i in topic.argsort()[-10:]])  # Top 10 words for each topic"
   ]
  },
  {
   "cell_type": "markdown",
   "metadata": {},
   "source": [
    "Model Perplexity: Perplexity yang lebih rendah menunjukkan bahwa model lebih baik dalam memprediksi data.\n",
    "\n",
    "Coherence Score: Semakin tinggi nilai koherensi (mendekati 1), semakin baik topik yang dihasilkan."
   ]
  }
 ],
 "metadata": {
  "kernelspec": {
   "display_name": "Python 3",
   "language": "python",
   "name": "python3"
  },
  "language_info": {
   "codemirror_mode": {
    "name": "ipython",
    "version": 3
   },
   "file_extension": ".py",
   "mimetype": "text/x-python",
   "name": "python",
   "nbconvert_exporter": "python",
   "pygments_lexer": "ipython3",
   "version": "3.12.5"
  }
 },
 "nbformat": 4,
 "nbformat_minor": 2
}
