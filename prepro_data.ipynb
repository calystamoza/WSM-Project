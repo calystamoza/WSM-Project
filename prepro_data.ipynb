{
 "cells": [
  {
   "cell_type": "code",
   "execution_count": 56,
   "metadata": {},
   "outputs": [
    {
     "name": "stderr",
     "output_type": "stream",
     "text": [
      "c:\\Users\\calys\\anaconda3\\lib\\site-packages\\scipy\\__init__.py:155: UserWarning: A NumPy version >=1.18.5 and <1.25.0 is required for this version of SciPy (detected version 1.26.4\n",
      "  warnings.warn(f\"A NumPy version >={np_minversion} and <{np_maxversion}\"\n"
     ]
    }
   ],
   "source": [
    "import pandas as pd\n",
    "import re\n",
    "from collections import Counter\n",
    "import nltk\n",
    "from nltk.tokenize import word_tokenize\n",
    "from nltk.corpus import stopwords\n",
    "from Sastrawi.Stemmer.StemmerFactory import StemmerFactory"
   ]
  },
  {
   "cell_type": "code",
   "execution_count": 75,
   "metadata": {},
   "outputs": [
    {
     "data": {
      "text/html": [
       "<div>\n",
       "<style scoped>\n",
       "    .dataframe tbody tr th:only-of-type {\n",
       "        vertical-align: middle;\n",
       "    }\n",
       "\n",
       "    .dataframe tbody tr th {\n",
       "        vertical-align: top;\n",
       "    }\n",
       "\n",
       "    .dataframe thead th {\n",
       "        text-align: right;\n",
       "    }\n",
       "</style>\n",
       "<table border=\"1\" class=\"dataframe\">\n",
       "  <thead>\n",
       "    <tr style=\"text-align: right;\">\n",
       "      <th></th>\n",
       "      <th>conversation_id_str</th>\n",
       "      <th>created_at</th>\n",
       "      <th>favorite_count</th>\n",
       "      <th>full_text</th>\n",
       "      <th>id_str</th>\n",
       "      <th>image_url</th>\n",
       "      <th>in_reply_to_screen_name</th>\n",
       "      <th>lang</th>\n",
       "      <th>location</th>\n",
       "      <th>quote_count</th>\n",
       "      <th>reply_count</th>\n",
       "      <th>retweet_count</th>\n",
       "      <th>tweet_url</th>\n",
       "      <th>user_id_str</th>\n",
       "      <th>username</th>\n",
       "    </tr>\n",
       "  </thead>\n",
       "  <tbody>\n",
       "    <tr>\n",
       "      <th>0</th>\n",
       "      <td>1835847615101243472</td>\n",
       "      <td>Tue Sep 17 23:55:49 +0000 2024</td>\n",
       "      <td>3</td>\n",
       "      <td>@UusRsd @msaid_didu Yuk ganyang Fufufafa sesua...</td>\n",
       "      <td>1836192364668588124</td>\n",
       "      <td>NaN</td>\n",
       "      <td>UusRsd</td>\n",
       "      <td>in</td>\n",
       "      <td>NaN</td>\n",
       "      <td>0</td>\n",
       "      <td>0</td>\n",
       "      <td>0</td>\n",
       "      <td>https://x.com/makelarcapres/status/18361923646...</td>\n",
       "      <td>1655621733548965889</td>\n",
       "      <td>makelarcapres</td>\n",
       "    </tr>\n",
       "    <tr>\n",
       "      <th>1</th>\n",
       "      <td>1836170303913009302</td>\n",
       "      <td>Tue Sep 17 23:55:41 +0000 2024</td>\n",
       "      <td>0</td>\n",
       "      <td>@kompascom Biasa....drama mulyono...pura2 kage...</td>\n",
       "      <td>1836192330896019567</td>\n",
       "      <td>NaN</td>\n",
       "      <td>kompascom</td>\n",
       "      <td>in</td>\n",
       "      <td>NaN</td>\n",
       "      <td>0</td>\n",
       "      <td>0</td>\n",
       "      <td>0</td>\n",
       "      <td>https://x.com/BantengDotID/status/183619233089...</td>\n",
       "      <td>1758470098623553538</td>\n",
       "      <td>BantengDotID</td>\n",
       "    </tr>\n",
       "    <tr>\n",
       "      <th>2</th>\n",
       "      <td>1835807033699999938</td>\n",
       "      <td>Tue Sep 17 23:55:11 +0000 2024</td>\n",
       "      <td>0</td>\n",
       "      <td>@fufu__fafa Jamet menjijikkan. Mesum pula.</td>\n",
       "      <td>1836192205847114084</td>\n",
       "      <td>NaN</td>\n",
       "      <td>fufu__fafa</td>\n",
       "      <td>in</td>\n",
       "      <td>Jakarta Capital Region, Indone</td>\n",
       "      <td>0</td>\n",
       "      <td>0</td>\n",
       "      <td>0</td>\n",
       "      <td>https://x.com/kucingtuabangka/status/183619220...</td>\n",
       "      <td>1658730412720685056</td>\n",
       "      <td>kucingtuabangka</td>\n",
       "    </tr>\n",
       "    <tr>\n",
       "      <th>3</th>\n",
       "      <td>1836116467634545003</td>\n",
       "      <td>Tue Sep 17 23:55:00 +0000 2024</td>\n",
       "      <td>9</td>\n",
       "      <td>@satriohendri Nebeng temen...ato nebeng sopir ...</td>\n",
       "      <td>1836192161693602201</td>\n",
       "      <td>https://pbs.twimg.com/media/GXt3CR9akAMVaUU.jpg</td>\n",
       "      <td>satriohendri</td>\n",
       "      <td>in</td>\n",
       "      <td>NaN</td>\n",
       "      <td>0</td>\n",
       "      <td>0</td>\n",
       "      <td>0</td>\n",
       "      <td>https://x.com/BantengDotID/status/183619216169...</td>\n",
       "      <td>1758470098623553538</td>\n",
       "      <td>BantengDotID</td>\n",
       "    </tr>\n",
       "    <tr>\n",
       "      <th>4</th>\n",
       "      <td>1835960764395667947</td>\n",
       "      <td>Tue Sep 17 23:54:58 +0000 2024</td>\n",
       "      <td>0</td>\n",
       "      <td>@andikamalreza kasian org ini.. model penakut....</td>\n",
       "      <td>1836192150792650817</td>\n",
       "      <td>NaN</td>\n",
       "      <td>andikamalreza</td>\n",
       "      <td>in</td>\n",
       "      <td>NaN</td>\n",
       "      <td>0</td>\n",
       "      <td>0</td>\n",
       "      <td>0</td>\n",
       "      <td>https://x.com/bram24hugery/status/183619215079...</td>\n",
       "      <td>1809583978195906560</td>\n",
       "      <td>bram24hugery</td>\n",
       "    </tr>\n",
       "  </tbody>\n",
       "</table>\n",
       "</div>"
      ],
      "text/plain": [
       "   conversation_id_str                      created_at  favorite_count  \\\n",
       "0  1835847615101243472  Tue Sep 17 23:55:49 +0000 2024               3   \n",
       "1  1836170303913009302  Tue Sep 17 23:55:41 +0000 2024               0   \n",
       "2  1835807033699999938  Tue Sep 17 23:55:11 +0000 2024               0   \n",
       "3  1836116467634545003  Tue Sep 17 23:55:00 +0000 2024               9   \n",
       "4  1835960764395667947  Tue Sep 17 23:54:58 +0000 2024               0   \n",
       "\n",
       "                                           full_text               id_str  \\\n",
       "0  @UusRsd @msaid_didu Yuk ganyang Fufufafa sesua...  1836192364668588124   \n",
       "1  @kompascom Biasa....drama mulyono...pura2 kage...  1836192330896019567   \n",
       "2         @fufu__fafa Jamet menjijikkan. Mesum pula.  1836192205847114084   \n",
       "3  @satriohendri Nebeng temen...ato nebeng sopir ...  1836192161693602201   \n",
       "4  @andikamalreza kasian org ini.. model penakut....  1836192150792650817   \n",
       "\n",
       "                                         image_url in_reply_to_screen_name  \\\n",
       "0                                              NaN                  UusRsd   \n",
       "1                                              NaN               kompascom   \n",
       "2                                              NaN              fufu__fafa   \n",
       "3  https://pbs.twimg.com/media/GXt3CR9akAMVaUU.jpg            satriohendri   \n",
       "4                                              NaN           andikamalreza   \n",
       "\n",
       "  lang                        location  quote_count  reply_count  \\\n",
       "0   in                             NaN            0            0   \n",
       "1   in                             NaN            0            0   \n",
       "2   in  Jakarta Capital Region, Indone            0            0   \n",
       "3   in                             NaN            0            0   \n",
       "4   in                             NaN            0            0   \n",
       "\n",
       "   retweet_count                                          tweet_url  \\\n",
       "0              0  https://x.com/makelarcapres/status/18361923646...   \n",
       "1              0  https://x.com/BantengDotID/status/183619233089...   \n",
       "2              0  https://x.com/kucingtuabangka/status/183619220...   \n",
       "3              0  https://x.com/BantengDotID/status/183619216169...   \n",
       "4              0  https://x.com/bram24hugery/status/183619215079...   \n",
       "\n",
       "           user_id_str         username  \n",
       "0  1655621733548965889    makelarcapres  \n",
       "1  1758470098623553538     BantengDotID  \n",
       "2  1658730412720685056  kucingtuabangka  \n",
       "3  1758470098623553538     BantengDotID  \n",
       "4  1809583978195906560     bram24hugery  "
      ]
     },
     "execution_count": 2,
     "metadata": {},
     "output_type": "execute_result"
    }
   ],
   "source": [
    "data = pd.read_csv('tweets-data/fufufafa.csv')\n",
    "data.head()"
   ]
  },
  {
   "cell_type": "code",
   "execution_count": 76,
   "metadata": {},
   "outputs": [],
   "source": [
    "data = data.drop(['id_str', 'conversation_id_str', 'image_url', 'tweet_url', 'user_id_str', 'username', 'in_reply_to_screen_name','quote_count',\t'reply_count',\t'retweet_count','favorite_count'], axis=1)\n"
   ]
  },
  {
   "cell_type": "code",
   "execution_count": 77,
   "metadata": {},
   "outputs": [
    {
     "data": {
      "text/html": [
       "<div>\n",
       "<style scoped>\n",
       "    .dataframe tbody tr th:only-of-type {\n",
       "        vertical-align: middle;\n",
       "    }\n",
       "\n",
       "    .dataframe tbody tr th {\n",
       "        vertical-align: top;\n",
       "    }\n",
       "\n",
       "    .dataframe thead th {\n",
       "        text-align: right;\n",
       "    }\n",
       "</style>\n",
       "<table border=\"1\" class=\"dataframe\">\n",
       "  <thead>\n",
       "    <tr style=\"text-align: right;\">\n",
       "      <th></th>\n",
       "      <th>created_at</th>\n",
       "      <th>full_text</th>\n",
       "      <th>lang</th>\n",
       "      <th>location</th>\n",
       "    </tr>\n",
       "  </thead>\n",
       "  <tbody>\n",
       "    <tr>\n",
       "      <th>0</th>\n",
       "      <td>Tue Sep 17 23:55:49 +0000 2024</td>\n",
       "      <td>@UusRsd @msaid_didu Yuk ganyang Fufufafa sesua...</td>\n",
       "      <td>in</td>\n",
       "      <td>NaN</td>\n",
       "    </tr>\n",
       "    <tr>\n",
       "      <th>1</th>\n",
       "      <td>Tue Sep 17 23:55:41 +0000 2024</td>\n",
       "      <td>@kompascom Biasa....drama mulyono...pura2 kage...</td>\n",
       "      <td>in</td>\n",
       "      <td>NaN</td>\n",
       "    </tr>\n",
       "    <tr>\n",
       "      <th>2</th>\n",
       "      <td>Tue Sep 17 23:55:11 +0000 2024</td>\n",
       "      <td>@fufu__fafa Jamet menjijikkan. Mesum pula.</td>\n",
       "      <td>in</td>\n",
       "      <td>Jakarta Capital Region, Indone</td>\n",
       "    </tr>\n",
       "    <tr>\n",
       "      <th>3</th>\n",
       "      <td>Tue Sep 17 23:55:00 +0000 2024</td>\n",
       "      <td>@satriohendri Nebeng temen...ato nebeng sopir ...</td>\n",
       "      <td>in</td>\n",
       "      <td>NaN</td>\n",
       "    </tr>\n",
       "    <tr>\n",
       "      <th>4</th>\n",
       "      <td>Tue Sep 17 23:54:58 +0000 2024</td>\n",
       "      <td>@andikamalreza kasian org ini.. model penakut....</td>\n",
       "      <td>in</td>\n",
       "      <td>NaN</td>\n",
       "    </tr>\n",
       "  </tbody>\n",
       "</table>\n",
       "</div>"
      ],
      "text/plain": [
       "                       created_at  \\\n",
       "0  Tue Sep 17 23:55:49 +0000 2024   \n",
       "1  Tue Sep 17 23:55:41 +0000 2024   \n",
       "2  Tue Sep 17 23:55:11 +0000 2024   \n",
       "3  Tue Sep 17 23:55:00 +0000 2024   \n",
       "4  Tue Sep 17 23:54:58 +0000 2024   \n",
       "\n",
       "                                           full_text lang  \\\n",
       "0  @UusRsd @msaid_didu Yuk ganyang Fufufafa sesua...   in   \n",
       "1  @kompascom Biasa....drama mulyono...pura2 kage...   in   \n",
       "2         @fufu__fafa Jamet menjijikkan. Mesum pula.   in   \n",
       "3  @satriohendri Nebeng temen...ato nebeng sopir ...   in   \n",
       "4  @andikamalreza kasian org ini.. model penakut....   in   \n",
       "\n",
       "                         location  \n",
       "0                             NaN  \n",
       "1                             NaN  \n",
       "2  Jakarta Capital Region, Indone  \n",
       "3                             NaN  \n",
       "4                             NaN  "
      ]
     },
     "execution_count": 4,
     "metadata": {},
     "output_type": "execute_result"
    }
   ],
   "source": [
    "data.head()"
   ]
  },
  {
   "cell_type": "code",
   "execution_count": 60,
   "metadata": {},
   "outputs": [
    {
     "name": "stdout",
     "output_type": "stream",
     "text": [
      "['in']\n"
     ]
    }
   ],
   "source": [
    "variations=data['lang'].unique()\n",
    "print(variations)"
   ]
  },
  {
   "cell_type": "code",
   "execution_count": 78,
   "metadata": {},
   "outputs": [],
   "source": [
    "data = data.drop(['lang'], axis=1)"
   ]
  },
  {
   "cell_type": "code",
   "execution_count": 79,
   "metadata": {},
   "outputs": [
    {
     "name": "stdout",
     "output_type": "stream",
     "text": [
      "@fufu__fafa          |   142 times\n",
      "@msaid_didu          |    99 times\n",
      "@habiburokhman       |    85 times\n",
      "@prabowo             |    83 times\n",
      "@JimlyAs             |    50 times\n",
      "@geloraco            |    48 times\n"
     ]
    }
   ],
   "source": [
    "text = data\n",
    "\n",
    "def extract_mentions(text):\n",
    "    mentions = re.findall(r'@\\w+', text)\n",
    "    return mentions\n",
    "\n",
    "text['mentions'] = text['full_text'].apply(extract_mentions)\n",
    "\n",
    "mentions = text['mentions'].sum()\n",
    "mention_count = Counter(mentions)\n",
    "for mention, count in (mention_count.most_common(6)):\n",
    "    print(f\"{mention:<20} | {count:>5} times\")\n"
   ]
  },
  {
   "cell_type": "code",
   "execution_count": 80,
   "metadata": {},
   "outputs": [],
   "source": [
    "def clean_text(text):\n",
    "    text = re.sub(r'@\\w+', '', text)\n",
    "    text = re.sub(r'http\\S+|www\\S+|https\\S+', '', text, flags=re.MULTILINE)\n",
    "    text = re.sub(r'[^a-zA-Z\\s]', '', text)\n",
    "    text = re.sub(r'\\s+', ' ', text).strip()\n",
    "    return text\n",
    "\n",
    "data['full_text'] = data['full_text'].apply(clean_text)"
   ]
  },
  {
   "cell_type": "code",
   "execution_count": 81,
   "metadata": {},
   "outputs": [
    {
     "data": {
      "text/plain": [
       "0    Yuk ganyang Fufufafa sesuai anjuran HRS PKS pa...\n",
       "1    Biasadrama mulyonopura kaget fufufafa fufufafaaaa\n",
       "2                         Jamet menjijikkan Mesum pula\n",
       "3    Nebeng temenato nebeng sopir temen Fufufafa fu...\n",
       "4    kasian org ini model penakut Sama fufufafa yg ...\n",
       "Name: full_text, dtype: object"
      ]
     },
     "execution_count": 9,
     "metadata": {},
     "output_type": "execute_result"
    }
   ],
   "source": [
    "data['full_text'].head()"
   ]
  },
  {
   "cell_type": "code",
   "execution_count": 10,
   "metadata": {},
   "outputs": [
    {
     "name": "stderr",
     "output_type": "stream",
     "text": [
      "[nltk_data] Downloading package punkt to\n",
      "[nltk_data]     C:\\Users\\calys\\AppData\\Roaming\\nltk_data...\n",
      "[nltk_data]   Package punkt is already up-to-date!\n",
      "[nltk_data] Downloading package stopwords to\n",
      "[nltk_data]     C:\\Users\\calys\\AppData\\Roaming\\nltk_data...\n",
      "[nltk_data]   Package stopwords is already up-to-date!\n"
     ]
    },
    {
     "data": {
      "text/plain": [
       "True"
      ]
     },
     "execution_count": 10,
     "metadata": {},
     "output_type": "execute_result"
    }
   ],
   "source": [
    "nltk.download('punkt')\n",
    "nltk.download('stopwords')"
   ]
  },
  {
   "cell_type": "code",
   "execution_count": 11,
   "metadata": {},
   "outputs": [],
   "source": [
    "#tokeniza\n",
    "data['tokens'] = data['full_text'].apply(word_tokenize)\n",
    "\n",
    "#stopwords\n",
    "stop_words = set(stopwords.words('indonesian'))\n",
    "data['tokens'] = data['tokens'].apply(lambda x: [word for word in x if word.lower() not in stop_words])\n",
    "\n",
    "#stemming\n",
    "factory = StemmerFactory()\n",
    "stemmer = factory.create_stemmer()\n",
    "\n",
    "data['stemmed_tokens'] = data['tokens'].apply(lambda x: [stemmer.stem(word) for word in x])\n",
    "\n",
    "#join\n",
    "data['clean_text'] = data['stemmed_tokens'].apply(lambda x: ' '.join(x))"
   ]
  },
  {
   "cell_type": "code",
   "execution_count": 12,
   "metadata": {},
   "outputs": [
    {
     "data": {
      "text/html": [
       "<div>\n",
       "<style scoped>\n",
       "    .dataframe tbody tr th:only-of-type {\n",
       "        vertical-align: middle;\n",
       "    }\n",
       "\n",
       "    .dataframe tbody tr th {\n",
       "        vertical-align: top;\n",
       "    }\n",
       "\n",
       "    .dataframe thead th {\n",
       "        text-align: right;\n",
       "    }\n",
       "</style>\n",
       "<table border=\"1\" class=\"dataframe\">\n",
       "  <thead>\n",
       "    <tr style=\"text-align: right;\">\n",
       "      <th></th>\n",
       "      <th>created_at</th>\n",
       "      <th>full_text</th>\n",
       "      <th>location</th>\n",
       "      <th>mentions</th>\n",
       "      <th>tokens</th>\n",
       "      <th>stemmed_tokens</th>\n",
       "      <th>clean_text</th>\n",
       "    </tr>\n",
       "  </thead>\n",
       "  <tbody>\n",
       "    <tr>\n",
       "      <th>0</th>\n",
       "      <td>Tue Sep 17 23:55:49 +0000 2024</td>\n",
       "      <td>Yuk ganyang Fufufafa sesuai anjuran HRS PKS pa...</td>\n",
       "      <td>NaN</td>\n",
       "      <td>[@UusRsd, @msaid_didu]</td>\n",
       "      <td>[Yuk, ganyang, Fufufafa, sesuai, anjuran, HRS,...</td>\n",
       "      <td>[yuk, ganyang, fufufafa, sesuai, anjur, hrs, p...</td>\n",
       "      <td>yuk ganyang fufufafa sesuai anjur hrs pks bera...</td>\n",
       "    </tr>\n",
       "    <tr>\n",
       "      <th>1</th>\n",
       "      <td>Tue Sep 17 23:55:41 +0000 2024</td>\n",
       "      <td>Biasadrama mulyonopura kaget fufufafa fufufafaaaa</td>\n",
       "      <td>NaN</td>\n",
       "      <td>[@kompascom]</td>\n",
       "      <td>[Biasadrama, mulyonopura, kaget, fufufafa, fuf...</td>\n",
       "      <td>[biasadrama, mulyonopura, kaget, fufufafa, fuf...</td>\n",
       "      <td>biasadrama mulyonopura kaget fufufafa fufufafaaaa</td>\n",
       "    </tr>\n",
       "    <tr>\n",
       "      <th>2</th>\n",
       "      <td>Tue Sep 17 23:55:11 +0000 2024</td>\n",
       "      <td>Jamet menjijikkan Mesum pula</td>\n",
       "      <td>Jakarta Capital Region, Indone</td>\n",
       "      <td>[@fufu__fafa]</td>\n",
       "      <td>[Jamet, menjijikkan, Mesum]</td>\n",
       "      <td>[jamet, jijik, mesum]</td>\n",
       "      <td>jamet jijik mesum</td>\n",
       "    </tr>\n",
       "    <tr>\n",
       "      <th>3</th>\n",
       "      <td>Tue Sep 17 23:55:00 +0000 2024</td>\n",
       "      <td>Nebeng temenato nebeng sopir temen Fufufafa fu...</td>\n",
       "      <td>NaN</td>\n",
       "      <td>[@satriohendri]</td>\n",
       "      <td>[Nebeng, temenato, nebeng, sopir, temen, Fufuf...</td>\n",
       "      <td>[nebeng, temenato, nebeng, sopir, temen, fufuf...</td>\n",
       "      <td>nebeng temenato nebeng sopir temen fufufafa fu...</td>\n",
       "    </tr>\n",
       "    <tr>\n",
       "      <th>4</th>\n",
       "      <td>Tue Sep 17 23:54:58 +0000 2024</td>\n",
       "      <td>kasian org ini model penakut Sama fufufafa yg ...</td>\n",
       "      <td>NaN</td>\n",
       "      <td>[@andikamalreza]</td>\n",
       "      <td>[kasian, org, model, penakut, fufufafa, yg, ud...</td>\n",
       "      <td>[kasi, org, model, takut, fufufafa, yg, udah, ...</td>\n",
       "      <td>kasi org model takut fufufafa yg udah hina dia...</td>\n",
       "    </tr>\n",
       "  </tbody>\n",
       "</table>\n",
       "</div>"
      ],
      "text/plain": [
       "                       created_at  \\\n",
       "0  Tue Sep 17 23:55:49 +0000 2024   \n",
       "1  Tue Sep 17 23:55:41 +0000 2024   \n",
       "2  Tue Sep 17 23:55:11 +0000 2024   \n",
       "3  Tue Sep 17 23:55:00 +0000 2024   \n",
       "4  Tue Sep 17 23:54:58 +0000 2024   \n",
       "\n",
       "                                           full_text  \\\n",
       "0  Yuk ganyang Fufufafa sesuai anjuran HRS PKS pa...   \n",
       "1  Biasadrama mulyonopura kaget fufufafa fufufafaaaa   \n",
       "2                       Jamet menjijikkan Mesum pula   \n",
       "3  Nebeng temenato nebeng sopir temen Fufufafa fu...   \n",
       "4  kasian org ini model penakut Sama fufufafa yg ...   \n",
       "\n",
       "                         location                mentions  \\\n",
       "0                             NaN  [@UusRsd, @msaid_didu]   \n",
       "1                             NaN            [@kompascom]   \n",
       "2  Jakarta Capital Region, Indone           [@fufu__fafa]   \n",
       "3                             NaN         [@satriohendri]   \n",
       "4                             NaN        [@andikamalreza]   \n",
       "\n",
       "                                              tokens  \\\n",
       "0  [Yuk, ganyang, Fufufafa, sesuai, anjuran, HRS,...   \n",
       "1  [Biasadrama, mulyonopura, kaget, fufufafa, fuf...   \n",
       "2                        [Jamet, menjijikkan, Mesum]   \n",
       "3  [Nebeng, temenato, nebeng, sopir, temen, Fufuf...   \n",
       "4  [kasian, org, model, penakut, fufufafa, yg, ud...   \n",
       "\n",
       "                                      stemmed_tokens  \\\n",
       "0  [yuk, ganyang, fufufafa, sesuai, anjur, hrs, p...   \n",
       "1  [biasadrama, mulyonopura, kaget, fufufafa, fuf...   \n",
       "2                              [jamet, jijik, mesum]   \n",
       "3  [nebeng, temenato, nebeng, sopir, temen, fufuf...   \n",
       "4  [kasi, org, model, takut, fufufafa, yg, udah, ...   \n",
       "\n",
       "                                          clean_text  \n",
       "0  yuk ganyang fufufafa sesuai anjur hrs pks bera...  \n",
       "1  biasadrama mulyonopura kaget fufufafa fufufafaaaa  \n",
       "2                                  jamet jijik mesum  \n",
       "3  nebeng temenato nebeng sopir temen fufufafa fu...  \n",
       "4  kasi org model takut fufufafa yg udah hina dia...  "
      ]
     },
     "execution_count": 12,
     "metadata": {},
     "output_type": "execute_result"
    }
   ],
   "source": [
    "data.head()"
   ]
  },
  {
   "cell_type": "code",
   "execution_count": 86,
   "metadata": {},
   "outputs": [],
   "source": [
    "data.to_csv('tweets-data/cleaned.csv',index=False)"
   ]
  }
 ],
 "metadata": {
  "kernelspec": {
   "display_name": "base",
   "language": "python",
   "name": "python3"
  },
  "language_info": {
   "codemirror_mode": {
    "name": "ipython",
    "version": 3
   },
   "file_extension": ".py",
   "mimetype": "text/x-python",
   "name": "python",
   "nbconvert_exporter": "python",
   "pygments_lexer": "ipython3",
   "version": "3.9.19"
  }
 },
 "nbformat": 4,
 "nbformat_minor": 2
}
